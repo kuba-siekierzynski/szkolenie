{
 "cells": [
  {
   "cell_type": "markdown",
   "metadata": {},
   "source": [
    "### Moduły w Pythonie"
   ]
  },
  {
   "cell_type": "markdown",
   "metadata": {},
   "source": [
    "W ramach bibiloteki standardowej (Standard Library), każda instalacja Pythona zawiera szereg wyspecjalizowanych tematycznie modułów, posiadających przydatne funkcje i klasy do konkretnych zadań.<br>\n",
    "<br>\n",
    "Przykładowe, najczęściej stosowane z nich, to m.in.:<br>\n",
    "<ul><b>math</b> - zawiera funkcje i operatory matematyczne</ul>\n",
    "<ul><b>random</b> - moduł obsługujący liczby pseudolosowe</ul>\n",
    "<ul><b>re</b> - do obsługi regex, czyli REGular EXpressions - do zaawansowanej pracy z danymi tekstowymi</ul>\n",
    "<ul><b>codecs</b> - moduł obsługujący różne standardy kodowania tekstu</ul>\n",
    "<ul><b>time</b> - pakiet funkcji związanych z czasem systemowymi, interwałami, etc.</ul>\n",
    "<ul><b>datetime</b> - rozszerzony o datę, operacje na datach i kalendarzu</ul>\n",
    "<ul><b>os</b> - obsługa funkcji specyficznych dla danego systemu operacyjnego, np. os.path </ul>\n",
    "<ul><b>sys</b> - obsługa funkcji specyficznych dla danego interpretera</ul>\n",
    "<ul><b>pickle</b> - moduł do serializacji obiektów</ul>\n",
    "<ul><b>sqlite3</b> - obsługa SQL przez DB-API 2.0</ul>\n",
    "<ul><b>csv</b> - łatwiejsza obsługa plików csv - odczyt i zapisywanie</ul>\n",
    "<ul><b>urllib</b> - moduł obsługujący połączenia z adresami URL</ul>"
   ]
  },
  {
   "cell_type": "markdown",
   "metadata": {},
   "source": [
    "<br><br><br><br><br><br>\n",
    "<hr>\n",
    "Moduł <b>math</b> - funkcje matematyczne, trygonometryczne i inne\n",
    "<br><br>"
   ]
  },
  {
   "cell_type": "code",
   "execution_count": 1,
   "metadata": {
    "collapsed": true
   },
   "outputs": [],
   "source": [
    "import math"
   ]
  },
  {
   "cell_type": "code",
   "execution_count": 2,
   "metadata": {},
   "outputs": [
    {
     "name": "stdout",
     "output_type": "stream",
     "text": [
      "32\n"
     ]
    }
   ],
   "source": [
    "a = math.gcd(359786944, 12486688) # gcd - grestest common divisor - największy wspólny dzielnik\n",
    "print(a)"
   ]
  },
  {
   "cell_type": "markdown",
   "metadata": {},
   "source": [
    "Równanie Euler'a:\n",
    "$$e^{\\pi i} + 1 = {0}$$"
   ]
  },
  {
   "cell_type": "code",
   "execution_count": 3,
   "metadata": {},
   "outputs": [
    {
     "name": "stdout",
     "output_type": "stream",
     "text": [
      "0.000000+0.000000j\n"
     ]
    }
   ],
   "source": [
    " # moduł math zawiera też stałe, np. pi albo e\n",
    "euler = (math.e**(math.pi*1j)) + 1 # 1j to liczba urojona równa pierwiastkowi z -1\n",
    "print('{0:2f}'.format(euler))"
   ]
  },
  {
   "cell_type": "code",
   "execution_count": 4,
   "metadata": {},
   "outputs": [
    {
     "name": "stdout",
     "output_type": "stream",
     "text": [
      "-0.9880316240928618\n"
     ]
    }
   ],
   "source": [
    "print(math.sin(30)) # w radianach, trzeba zamienić na stopnie"
   ]
  },
  {
   "cell_type": "code",
   "execution_count": 5,
   "metadata": {},
   "outputs": [
    {
     "name": "stdout",
     "output_type": "stream",
     "text": [
      "0.49999999999999994\n"
     ]
    }
   ],
   "source": [
    "def sinus(x):\n",
    "    return math.sin(x/180*math.pi)\n",
    "\n",
    "print(sinus(30))"
   ]
  },
  {
   "cell_type": "code",
   "execution_count": 9,
   "metadata": {},
   "outputs": [
    {
     "name": "stdout",
     "output_type": "stream",
     "text": [
      "3.141592653589793\n",
      "180.0\n"
     ]
    }
   ],
   "source": [
    "# ale są też funkcje wbudowane:\n",
    "print(math.radians(180))\n",
    "print(math.degrees(math.pi))"
   ]
  },
  {
   "cell_type": "code",
   "execution_count": 11,
   "metadata": {},
   "outputs": [
    {
     "name": "stdout",
     "output_type": "stream",
     "text": [
      "7.38905609893065\n",
      "7.3890560989306495\n"
     ]
    }
   ],
   "source": [
    "# funkcja exp - podnosi e do potęgi x\n",
    "print(math.exp(2))\n",
    "print(math.e**2) # dla porównania"
   ]
  },
  {
   "cell_type": "code",
   "execution_count": null,
   "metadata": {
    "collapsed": true
   },
   "outputs": [],
   "source": []
  },
  {
   "cell_type": "code",
   "execution_count": 6,
   "metadata": {
    "collapsed": true
   },
   "outputs": [
    {
     "name": "stdout",
     "output_type": "stream",
     "text": [
      "331627509245063324117539338057632403828111720810578039457193543706038077905600822400273230859732592255402352941225834109258084817415293796131386633526343688905634058556163940605117252571870647856393544045405243957467037674108722970434684158343752431580877533645127487995436859247408032408946561507233250652797655757179671536718689359056112815871601717232657156110004214012420433842573712700175883547796899921283528996665853405579854903657366350133386550401172012152635488038268152152246920995206031564418565480675946497051552288205234899995726450814065536678969532101467622671332026831552205194494461618239275204026529722631502574752048296064750927394165856283531779574482876314596450373991327334177263608852490093506621610144459709412707821313732563831572302019949914958316470942774473870327985549674298608839376326824152478834387469595829257740574539837501585815468136294217949972399813599481016556563876034227312912250384709872909626622461971076605931550201895135583165357871492290916779049702247094611937607785165110684432255905648736266530377384650390788049524600712549402614566072254136302754913671583406097831074945282217490781347709693241556111339828051358600690594619965257310741177081519922564516778571458056602185654760952377463016679422488444485798349801548032620829890965857381751888619376692828279888453584639896594213952984465291092009103710046149449915828588050761867924946385180879874512891408019340074625920057098729578599643650655895612410231018690556060308783629110505601245908998383410799367902052076858669183477906558544700148692656924631933337612428097420067172846361939249698628468719993450393889367270487127172734561700354867477509102955523953547941107421913301356819541091941462766417542161587625262858089801222443890248677182054959415751991701271767571787495861619665931878855141835782092601482071777331735396034304969082070589958701381980813035590160762908388574561288217698136182483576739218303118414719133986892842344000779246691209766731651433494437473235636572048844478331854941693030124531676232745367879322847473824485092283139952509732505979127031047683601481191102229253372697693823670057565612400290576043852852902937606479533458179666123839605262549107186663869354766108455046198102084050635827676526589492393249519685954171672419329530683673495544004586359838161043059449826627530605423580755894108278880427825951089880635410567917950974017780688782869810219010900148352061688883720250310665922068601483649830532782088263536558043605686781284169217133047141176312175895777122637584753123517230990549829210134687304205898014418063875382664169897704237759406280877253702265426530580862379301422675821187143502918637636340300173251818262076039747369595202642632364145446851113427202150458383851010136941313034856221916631623892632765815355011276307825059969158824533457435437863683173730673296589355199694458236873508830278657700879749889992343555566240682834763784685183844973648873952475103224222110561201295829657191368108693825475764118886879346725191246192151144738836269591643672490071653428228152661247800463922544945170363723627940757784542091048305461656190622174286981602973324046520201992813854882681951007282869701070737500927666487502174775372742351508748246720274170031581122805896178122160747437947510950620938556674581252518376682157712807861499255876132352950422346387878954850885764466136290394127665978044202092281337987115900896264878942413210454925003566670632909441579372986743421470507213588932019580723064781498429522595589012754823971773325722910325760929790733299545056388362640474650245080809469116072632087494143973000704111418595530278827357654819182002449697761111346318195282761590964189790958117338627206088910432945244978535147014112442143055486089639578378347325323595763291438925288393986256273242862775563140463830389168421633113445636309571965978466338551492316196335675355138403425804162919837822266909521770153175338730284610841886554138329171951332117895728541662084823682817932512931237521541926970269703299477643823386483008871530373405666383868294088487730721762268849023084934661194260180272613802108005078215741006054848201347859578102770707780655512772540501674332396066253216415004808772403047611929032210154385353138685538486425570790795341176519571188683739880683895792743749683498142923292196309777090143936843655333359307820181312993455024206044563340578606962471961505603394899523321800434359967256623927196435402872055475012079854331970674797313126813523653744085662263206768837585132782896252333284341812977624697079543436003492343159239674763638912115285406657783646213911247447051255226342701239527018127045491648045932248108858674600952306793175967755581011679940005249806303763141344412269037034987355799916009259248075052485541568266281760815446308305406677412630124441864204108373119093130001154470560277773724378067188899770851056727276781247198832857695844217588895160467868204810010047816462358220838532488134270834079868486632162720208823308727819085378845469131556021728873121907393965209260229101477527080930865364979858554010577450279289814603688431821508637246216967872282169347370599286277112447690920902988320166830170273420259765671709863311216349502171264426827119650264054228231759630874475301847194095524263411498469508073390080000000000000000000000000000000000000000000000000000000000000000000000000000000000000000000000000000000000000000000000000000000000000000000000000000000000000000000000000000000000000000000000000000000000000000000000000000000000000000000000000000000000000000000000000000000000000000000000000000000000000000000000000000000000000000000000000000000000000000000000000000000000000000000000000000000000000000000000000000000000000000000000000000000000000000000000000000000000000000000000000000000000000000000\n"
     ]
    }
   ],
   "source": [
    "print(math.factorial(2000))"
   ]
  },
  {
   "cell_type": "code",
   "execution_count": 15,
   "metadata": {},
   "outputs": [
    {
     "name": "stdout",
     "output_type": "stream",
     "text": [
      "inf\n"
     ]
    }
   ],
   "source": [
    "print(math.inf) # oznacza nieskończoność"
   ]
  },
  {
   "cell_type": "code",
   "execution_count": 18,
   "metadata": {},
   "outputs": [
    {
     "name": "stdout",
     "output_type": "stream",
     "text": [
      "10.0\n"
     ]
    }
   ],
   "source": [
    "print(math.log(1024, 2)) # logarytm z liczby o danej podstawie"
   ]
  },
  {
   "cell_type": "code",
   "execution_count": 23,
   "metadata": {},
   "outputs": [
    {
     "name": "stdout",
     "output_type": "stream",
     "text": [
      "1.0\n"
     ]
    }
   ],
   "source": [
    "print(math.log(math.e)) # jeśli jest podany z jednym argumentem, zwraca logarytm naturalny"
   ]
  },
  {
   "cell_type": "code",
   "execution_count": null,
   "metadata": {
    "collapsed": true
   },
   "outputs": [],
   "source": []
  },
  {
   "cell_type": "markdown",
   "metadata": {},
   "source": [
    "### Moduł <b>re</b> - regex, regular expressions, wyrażenia regularne\n",
    "<hr>"
   ]
  },
  {
   "cell_type": "code",
   "execution_count": 24,
   "metadata": {
    "collapsed": true
   },
   "outputs": [],
   "source": [
    "import re"
   ]
  },
  {
   "cell_type": "code",
   "execution_count": 25,
   "metadata": {
    "collapsed": true
   },
   "outputs": [],
   "source": [
    "tekst = '''To Sherlock Holmes she is always THE woman. I have seldom heard\n",
    "him mention her under any other name. In his eyes she eclipses\n",
    "and predominates the whole of her sex. It was not that he felt\n",
    "any emotion akin to love for Irene Adler. All emotions, and that\n",
    "one particularly, were abhorrent to his cold, precise but\n",
    "admirably balanced mind. He was, I take it, the most perfect\n",
    "reasoning and observing machine that the world has seen, but as a\n",
    "lover he would have placed himself in a false position. He never\n",
    "spoke of the softer passions, save with a gibe and a sneer. They\n",
    "were admirable things for the observer--excellent for drawing the\n",
    "veil from men's motives and actions. But for the trained reasoner\n",
    "to admit such intrusions into his own delicate and finely\n",
    "adjusted temperament was to introduce a distracting factor which\n",
    "might throw a doubt upon all his mental results. Grit in a\n",
    "sensitive instrument, or a crack in one of his own high-power\n",
    "lenses, would not be more disturbing than a strong emotion in a\n",
    "nature such as his. And yet there was but one woman to him, and\n",
    "that woman was the late Irene Adler, of dubious and questionable\n",
    "memory.\n",
    "'''"
   ]
  },
  {
   "cell_type": "code",
   "execution_count": 26,
   "metadata": {},
   "outputs": [
    {
     "name": "stdout",
     "output_type": "stream",
     "text": [
      "<_sre.SRE_Match object; span=(169, 172), match='was'>\n",
      "['was', 'was', 'was', 'was', 'was']\n"
     ]
    }
   ],
   "source": [
    "# większość funkcji modułu re wykorzystuje schemat pattern, text - czyli wyszukaj danego wzoru w tekście\n",
    "pattern = r'was'\n",
    "print(re.search(pattern, tekst)) # zwraca obiekt typu SRE_match\n",
    "print(re.findall(pattern, tekst))"
   ]
  },
  {
   "cell_type": "code",
   "execution_count": 27,
   "metadata": {},
   "outputs": [
    {
     "name": "stdout",
     "output_type": "stream",
     "text": [
      "was\n",
      "169\n",
      "172\n",
      "(169, 172)\n"
     ]
    }
   ],
   "source": [
    "match = re.search(pattern, tekst) # znajduje (pierwsze) wystąpienie frazy w tekście (None, jeśli brak)\n",
    "\n",
    "if match:    \n",
    "    print(match.group()) # znalezione wystąpienie\n",
    "    print(match.start()) # indeks początku wystąpienia\n",
    "    print(match.end())   # indeks końca wystąpienia\n",
    "    print(match.span())  # tuple z początkiem i końcem wystąpienia"
   ]
  },
  {
   "cell_type": "code",
   "execution_count": 28,
   "metadata": {},
   "outputs": [
    {
     "name": "stdout",
     "output_type": "stream",
     "text": [
      "was\n"
     ]
    }
   ],
   "source": [
    "print(tekst[169:172])"
   ]
  },
  {
   "cell_type": "code",
   "execution_count": 29,
   "metadata": {},
   "outputs": [
    {
     "name": "stdout",
     "output_type": "stream",
     "text": [
      "['is', 'is', 'was', 'is', 'is', 'was', 'is', 'was', 'is', 'is', 'is', 'is', 'is', 'was', 'was']\n"
     ]
    }
   ],
   "source": [
    "# regex umożliwia komplikowania zapytań\n",
    "pattern = r'is|was' # \n",
    "print(re.findall(pattern, tekst))"
   ]
  },
  {
   "cell_type": "code",
   "execution_count": 30,
   "metadata": {},
   "outputs": [
    {
     "name": "stdout",
     "output_type": "stream",
     "text": [
      "['mention', 'emotion', 'emotion', 'position', 'action', 'emotion', 'question']\n"
     ]
    }
   ],
   "source": [
    "# \\w - dowolny znak będący częścią wyrazu (litera, cyfra lub _)\n",
    "# + oznacza wystąpienie frazy poprzedzającej co najmniej raz\n",
    "\n",
    "pattern = r'\\w+tion' # słowa kończące się na -tion\n",
    "print(re.findall(pattern, tekst))"
   ]
  },
  {
   "cell_type": "code",
   "execution_count": 31,
   "metadata": {},
   "outputs": [
    {
     "name": "stdout",
     "output_type": "stream",
     "text": [
      "['mention', 'emotion', 'emotions', 'position', 'actions', 'emotion', 'question']\n"
     ]
    }
   ],
   "source": [
    "# . oznacza dowolny znak\n",
    "# * oznacza wystąpienie poprzedzającej frazy 0 razy lub więcej\n",
    "# ? oznacza wystąpienie poprzedzającej frazy 0 razy lub 1 raz\n",
    "\n",
    "pattern = r'\\w*tions?'\n",
    "print(re.findall(pattern, tekst))"
   ]
  },
  {
   "cell_type": "code",
   "execution_count": 32,
   "metadata": {},
   "outputs": [
    {
     "name": "stdout",
     "output_type": "stream",
     "text": [
      "[' a', ' a', '\\na', '\\na', ' a', ' a', ' a', '\\na', ' a', ' a', ' a', ' a', ' a', ' a', ' a', ' a', ' a', ' a', ' a', ' a', '\\na', ' a', ' a', ' a', ' a', ' a', ' a', ' a', ' a', ' a', ' a']\n"
     ]
    }
   ],
   "source": [
    "pattern = r'\\sa' # \\s oznacza dowolny znak typu whitespace (spacja, znak nowej linii, tabulator, etc.)\n",
    "print(re.findall(pattern, tekst))"
   ]
  },
  {
   "cell_type": "code",
   "execution_count": 33,
   "metadata": {
    "collapsed": true
   },
   "outputs": [],
   "source": [
    "tekst2 = '''\n",
    "Holmes moved the lamp, and we both bent over the sheet of paper,\n",
    "which showed by its ragged edge that it had indeed been torn from\n",
    "a book. It was headed, \"March, 1869,\" and beneath were the\n",
    "following enigmatical notices:\n",
    "\n",
    "\"4th. Hudson came. Same old platform.\n",
    "\n",
    "\"7th. Set the pips on McCauley, Paramore, and\n",
    "      John Swain, of St. Augustine.\n",
    "\n",
    "\"9th. McCauley cleared.\n",
    "\n",
    "\"10th. John Swain cleared.\n",
    "\n",
    "\"12th. Visited Paramore. All well.\"\n",
    "'''"
   ]
  },
  {
   "cell_type": "code",
   "execution_count": 34,
   "metadata": {},
   "outputs": [
    {
     "name": "stdout",
     "output_type": "stream",
     "text": [
      "['1869', '4', '7', '9', '10', '12']\n"
     ]
    }
   ],
   "source": [
    "pattern = r'\\d+' # \\d oznacza cyfrę - digit\n",
    "print(re.findall(pattern, tekst2))"
   ]
  },
  {
   "cell_type": "code",
   "execution_count": 35,
   "metadata": {},
   "outputs": [
    {
     "name": "stdout",
     "output_type": "stream",
     "text": [
      "['\\nHolmes moved the lamp, and we both bent over the sheet of paper,\\nwhich showed by its ragged edge that it had indeed been torn from\\na book. It was headed, \"March, ', ',\" and beneath were the\\nfollowing enigmatical notices:\\n\\n\"', 'th. Hudson came. Same old platform.\\n\\n\"', 'th. Set the pips on McCauley, Paramore, and\\n      John Swain, of St. Augustine.\\n\\n\"', 'th. McCauley cleared.\\n\\n\"', 'th. John Swain cleared.\\n\\n\"', 'th. Visited Paramore. All well.\"\\n']\n"
     ]
    }
   ],
   "source": [
    "# \\s, \\w, \\d - mają swoje odpowiedniki \\S, \\W, \\D które oznaczają, że chodzi o znak, który NIE JEST danym typem\n",
    "\n",
    "pattern = r'\\D+' # \\D oznacza znak nie będący cyfrą\n",
    "print(re.findall(pattern, tekst2))"
   ]
  },
  {
   "cell_type": "code",
   "execution_count": 36,
   "metadata": {},
   "outputs": [
    {
     "name": "stdout",
     "output_type": "stream",
     "text": [
      "['18', '69', '10', '12']\n"
     ]
    }
   ],
   "source": [
    "# wyrażenia w nawiasach:\n",
    "# (ABC)+ - znajdź wystąpienia frazy ABC (co najmniej raz)\n",
    "# [ABC]+ - znajdź wystąpienie którejkolwiek z liter A, B lub C co najmniej raz\n",
    "# [A-F]+ - znajdź występienie litery z przedziału A-F co najmniej raz\n",
    "# [^A-F]+ - znajdź wystąpienie znaku POZA przedziałem liter A-F\n",
    "# (ABC){3} - znajdź wyrażenie, które zawiera frazę ABC dokładnie trzy razy - ABCABCABC\n",
    "# (ABC){2, 4} - znajdź wyrażenie, które zawiera frazę ABC dwa, trzy lub cztery razy\n",
    "\n",
    "pattern = r'(\\d{2})' # znajdź wszystkie wystąpienia dwóch cyfr\n",
    "print(re.findall(pattern, tekst2))"
   ]
  },
  {
   "cell_type": "code",
   "execution_count": 37,
   "metadata": {},
   "outputs": [
    {
     "name": "stdout",
     "output_type": "stream",
     "text": [
      "['10', '12']\n"
     ]
    }
   ],
   "source": [
    "# dla powyższego - jeśli chcemy tylko liczby dwucyfrowe, musimy być sprytni\n",
    "pattern = r'\\D(\\d{2})\\D' # znajdź wszystkie wystąpienia dwóch cyfr poprzedzone nie-cyfrą i poprzedzające nie-cyfrę\n",
    "print(re.findall(pattern, tekst2))"
   ]
  },
  {
   "cell_type": "code",
   "execution_count": 38,
   "metadata": {},
   "outputs": [
    {
     "name": "stdout",
     "output_type": "stream",
     "text": [
      "To|Sherlock|Holmes|she|is|always|THE|woman|I|have|seldom|heard|him|mention|her|under|any|other|name|In|his|eyes|she|eclipses|and|predominates|the|whole|of|her|sex|It|was|not|that|he|felt|any|emotion|akin|to|love|for|Irene|Adler|All|emotions|and|that|one|particularly|were|abhorrent|to|his|cold|precise|but|admirably|balanced|mind|He|was|I|take|it|the|most|perfect|reasoning|and|observing|machine|that|the|world|has|seen|but|as|a|lover|he|would|have|placed|himself|in|a|false|position|He|never|spoke|of|the|softer|passions|save|with|a|gibe|and|a|sneer|They|were|admirable|things|for|the|observer|excellent|for|drawing|the|veil|from|men|s|motives|and|actions|But|for|the|trained|reasoner|to|admit|such|intrusions|into|his|own|delicate|and|finely|adjusted|temperament|was|to|introduce|a|distracting|factor|which|might|throw|a|doubt|upon|all|his|mental|results|Grit|in|a|sensitive|instrument|or|a|crack|in|one|of|his|own|high|power|lenses|would|not|be|more|disturbing|than|a|strong|emotion|in|a|nature|such|as|his|And|yet|there|was|but|one|woman|to|him|and|that|woman|was|the|late|Irene|Adler|of|dubious|and|questionable|memory|\n"
     ]
    }
   ],
   "source": [
    "# możliwa jest też zamiana wyrażeń w locie\n",
    "pattern = r'\\W+' # wszystkie whitespace'y...\n",
    "print(re.sub(pattern, '|', tekst)) # ...zamień na pipe"
   ]
  },
  {
   "cell_type": "markdown",
   "metadata": {},
   "source": [
    "### Zadanie"
   ]
  },
  {
   "cell_type": "markdown",
   "metadata": {},
   "source": [
    "Z podanej lokalizacji ściągnij plik. Znajdź wszystkie słowa będące **nazwami własnymi** i policz, ile razy każde z nich występuje w tekście. Następnie zdefiniuj funkcję zwracającą X najczęściej występujących słów i za jej pomocą znajdź 20 najczęściej występujących słów.<br>\n",
    "Podpowiedź 1: Zwróć uwagę na charakterystyczną pisownię nazw własnych w dokumencie.<br>\n",
    "Podpowiedź 2: Sprawdź i przetestuj wyrażenie regex, np. na stronie <a href='http://www.regex101.com'>www.regex101.com</a><br>\n",
    "Podpowiedź 3: Pamiętaj, że Python rozróżnia wielkość liter - spróbuj uwzględnić występowanie danego słowa niezależnie od jego pisowni<br>\n",
    "Podpowiedź 4: Użyj typu danych, który jest w stanie przechować parę: słowo-liczba występowań"
   ]
  },
  {
   "cell_type": "code",
   "execution_count": null,
   "metadata": {
    "collapsed": true
   },
   "outputs": [],
   "source": [
    "import re\n",
    "\n",
    "# from urllib.request import urlopen\n",
    "# tekst = urlopen('http://www.gutenberg.org/cache/epub/16878/pg16878.txt')\n",
    "# 'Izaak Newton: Uwagi do Proroctw Daniela i Objawienia Św. Jana'\n",
    "\n",
    "tekst = open(r'R:/PG/pg16878.txt', encoding='UTF-8').read()"
   ]
  },
  {
   "cell_type": "code",
   "execution_count": null,
   "metadata": {
    "collapsed": true
   },
   "outputs": [],
   "source": [
    "# przetwarzanie tekstu najlepiej przy pomocy regex - trzeba tylko znaleźć właściwą formułę\n",
    "\n",
    "pattern = r'' # do uzupełnienia\n",
    "names_pattern = re.compile(pattern)\n",
    "names = re.findall(names_pattern, tekst)\n",
    "print(names)"
   ]
  },
  {
   "cell_type": "code",
   "execution_count": null,
   "metadata": {
    "collapsed": true
   },
   "outputs": [],
   "source": [
    "# część wyrazów zawiera kropki i przecinki, które można łatwo usunąć\n",
    "names_clean = # do uzupełnienia\n",
    "print(names_clean)"
   ]
  },
  {
   "cell_type": "code",
   "execution_count": null,
   "metadata": {
    "collapsed": true
   },
   "outputs": [],
   "source": [
    "# zdefiniujmy sobie funkcję zwracającą l najczęściej występujących elementów listy\n",
    "\n",
    "def word_count(n, l=0): # jeśli l równe 0 (lub nie podane), zwróć całą listę\n",
    "    return"
   ]
  },
  {
   "cell_type": "code",
   "execution_count": null,
   "metadata": {
    "collapsed": true
   },
   "outputs": [],
   "source": [
    "print(word_count(20)) # powinna zwrócić 20 najczęściej występujących nazw własnych w tekście"
   ]
  },
  {
   "cell_type": "code",
   "execution_count": null,
   "metadata": {
    "collapsed": true
   },
   "outputs": [],
   "source": []
  },
  {
   "cell_type": "markdown",
   "metadata": {},
   "source": [
    "### Moduł random - liczby pseudolosowe"
   ]
  },
  {
   "cell_type": "code",
   "execution_count": 39,
   "metadata": {
    "collapsed": true
   },
   "outputs": [],
   "source": [
    "import random"
   ]
  },
  {
   "cell_type": "code",
   "execution_count": 40,
   "metadata": {},
   "outputs": [
    {
     "name": "stdout",
     "output_type": "stream",
     "text": [
      "0.562880864046124\n"
     ]
    }
   ],
   "source": [
    "a = random.random() # losuje liczbę z przedziału [0, 1)\n",
    "print(a)"
   ]
  },
  {
   "cell_type": "code",
   "execution_count": 41,
   "metadata": {},
   "outputs": [
    {
     "name": "stdout",
     "output_type": "stream",
     "text": [
      "0.6394267984578837\n"
     ]
    }
   ],
   "source": [
    "random.seed(42) # ustawia \"ziarno\" generatora liczb pseudolosowych - wykorzystywane do powtarzalności losowania\n",
    "b = random.random()\n",
    "print(b)"
   ]
  },
  {
   "cell_type": "code",
   "execution_count": 42,
   "metadata": {},
   "outputs": [
    {
     "name": "stdout",
     "output_type": "stream",
     "text": [
      "387\n"
     ]
    }
   ],
   "source": [
    "l = []\n",
    "for i in range(200):\n",
    "    a = random.random()\n",
    "    if a < .3333:\n",
    "        l.append(1)\n",
    "    elif a < .6666:\n",
    "        l.append(2)\n",
    "    else:\n",
    "        l.append(3)\n",
    "\n",
    "print(sum(l)) # suma powinna \"krążyć\" wokół 400 - szanse każdego z wyników określa rozkład zbliżony do normalnego"
   ]
  },
  {
   "cell_type": "code",
   "execution_count": 43,
   "metadata": {},
   "outputs": [
    {
     "name": "stdout",
     "output_type": "stream",
     "text": [
      "344.35280651326906\n",
      "359.0060523829681\n",
      "339.0386107956702\n",
      "444.70995305760266\n",
      "245.27238123636707\n",
      "422.1654078365822\n",
      "414.8355792832998\n",
      "422.56010241603906\n",
      "414.5236962815732\n",
      "435.90815771497563\n"
     ]
    }
   ],
   "source": [
    "# można też wygenerować liczby pseudolosowe rozkładu normalnego\n",
    "for i in range(10):\n",
    "    print(random.normalvariate(400, 50))"
   ]
  },
  {
   "cell_type": "code",
   "execution_count": 44,
   "metadata": {},
   "outputs": [
    {
     "name": "stdout",
     "output_type": "stream",
     "text": [
      "39\n"
     ]
    }
   ],
   "source": [
    "c = random.randint(23, 42) # losowanie z przedziału liczb całkowitych (zawiera oba końce przedziału)\n",
    "print(c)"
   ]
  },
  {
   "cell_type": "code",
   "execution_count": 45,
   "metadata": {},
   "outputs": [
    {
     "name": "stdout",
     "output_type": "stream",
     "text": [
      "1\n"
     ]
    }
   ],
   "source": [
    "d = random.randrange(1, 10, 3) # losuje liczbę z określonego przedziału (analogicznie do range)\n",
    "print(d) # 1, 4 lub 7"
   ]
  },
  {
   "cell_type": "markdown",
   "metadata": {},
   "source": [
    "<br><br><br>\n",
    "<b>Losowanie z populacji</b>"
   ]
  },
  {
   "cell_type": "code",
   "execution_count": 46,
   "metadata": {},
   "outputs": [
    {
     "name": "stdout",
     "output_type": "stream",
     "text": [
      "2\n"
     ]
    }
   ],
   "source": [
    "k = random.choice(l) # pojedyncze losowanie\n",
    "print(k)"
   ]
  },
  {
   "cell_type": "code",
   "execution_count": 47,
   "metadata": {},
   "outputs": [
    {
     "name": "stdout",
     "output_type": "stream",
     "text": [
      "[2, 2, 3, 1, 2, 3, 1, 2, 2, 3, 3, 3, 3, 1, 3, 2, 1, 1, 3, 3, 1, 1, 1, 1, 3, 2, 3, 1, 1, 2, 2, 3, 1, 3, 2, 1, 1, 1, 1, 1, 1, 3, 1, 3, 2, 1, 2, 3, 1, 1, 3, 2, 3, 1, 3, 2, 3, 1, 1, 1, 1, 2, 3, 1, 1, 1, 1, 2, 1, 3, 2, 2, 1, 3, 1, 1, 1, 3, 2, 3, 3, 1, 3, 2, 1, 3, 3, 3, 2, 3, 1, 3, 3, 3, 2, 2, 3, 1, 1, 2, 2, 2, 2, 2, 2, 3, 2, 1, 1, 1, 1, 3, 2, 1, 2, 1, 3, 3, 1, 1, 1, 3, 1, 3, 2, 1, 2, 3, 1, 1, 1, 1, 3, 3, 2, 1, 1, 1, 1, 3, 2, 1, 3, 2, 2, 2, 1, 3, 2, 3, 3, 1, 1, 2, 1, 2, 3, 3, 3, 2, 3, 2, 3, 2, 1, 1, 3, 3, 1, 1, 2, 1, 1, 1, 3, 3, 3, 1, 1, 1, 1, 3, 1, 3, 1, 1, 2, 1, 3, 2, 1, 2, 2, 2, 3, 3, 2, 3, 2, 2, 1, 2, 2, 2, 2, 2, 2, 1, 2, 2, 2, 3, 2, 1, 3, 2, 3, 3, 1, 2, 3, 2, 2, 1, 1, 2, 2, 2, 1, 3, 1, 1, 2, 2, 3, 2, 3, 1, 3, 1, 1, 1, 3, 1, 1, 2, 3, 2, 1, 3, 2, 3, 1, 2, 1, 2, 3, 1, 3, 3, 2, 3, 1, 1, 1, 1, 1, 2, 1, 2, 3, 1, 3, 2, 3, 3, 2, 3, 1, 2, 1, 1, 1, 1, 1, 3, 2, 3, 2, 1, 1, 2, 1, 1, 1, 2, 1, 1, 2, 2, 1, 2, 1, 1, 2, 3, 3, 2, 2, 3, 3, 1, 3, 1, 3, 3, 2, 3, 1, 3, 2, 2, 2, 3, 1, 1, 3, 1, 2, 3, 2, 1, 1, 1, 3, 2, 1, 2, 3, 3, 3, 2, 1, 1, 2, 1, 2, 1, 1, 3, 2, 1, 1, 2, 2, 3, 1, 1, 3, 1, 3, 3, 1, 1, 3, 2, 2, 1, 2, 2, 2, 2, 2, 3, 3, 1, 3, 2, 1, 2, 3, 2, 1, 1, 3, 1, 3, 2, 2, 1, 1, 3, 1, 1, 1, 2, 1, 1, 2, 2]\n"
     ]
    }
   ],
   "source": [
    "j = random.choices(l, k=400) # losowanie wielokrotne ze zwracaniem\n",
    "print(j)"
   ]
  },
  {
   "cell_type": "code",
   "execution_count": 48,
   "metadata": {},
   "outputs": [
    {
     "name": "stdout",
     "output_type": "stream",
     "text": [
      "[2, 1, 1, 2, 3, 2, 2, 1, 1, 3]\n"
     ]
    }
   ],
   "source": [
    "h = random.sample(l, 10) # losowanie próbki, bez zwracania - próbka nie może być większa niż populacja :)\n",
    "print(h)"
   ]
  },
  {
   "cell_type": "code",
   "execution_count": 49,
   "metadata": {},
   "outputs": [
    {
     "name": "stdout",
     "output_type": "stream",
     "text": [
      "[0, 1, 2, 3, 4, 5, 6, 7, 8, 9, 10, 11, 12, 13, 14, 15, 16, 17, 18, 19]\n"
     ]
    }
   ],
   "source": [
    "l3 = list(range(20))\n",
    "print(l3)"
   ]
  },
  {
   "cell_type": "code",
   "execution_count": 50,
   "metadata": {},
   "outputs": [
    {
     "name": "stdout",
     "output_type": "stream",
     "text": [
      "[9, 5, 14, 6, 3, 12, 13, 0, 15, 7, 10, 2, 11, 18, 19, 16, 1, 8, 4, 17]\n"
     ]
    }
   ],
   "source": [
    "random.shuffle(l3) # zmienia porządek elementów listy\n",
    "print(l3)"
   ]
  },
  {
   "cell_type": "code",
   "execution_count": 74,
   "metadata": {},
   "outputs": [
    {
     "name": "stdout",
     "output_type": "stream",
     "text": [
      "3.0538024431936037\n"
     ]
    }
   ],
   "source": [
    "print(random.uniform(0, 10)) # rozkład jednorodny"
   ]
  },
  {
   "cell_type": "code",
   "execution_count": null,
   "metadata": {
    "collapsed": true
   },
   "outputs": [],
   "source": []
  },
  {
   "cell_type": "markdown",
   "metadata": {},
   "source": [
    "### Zadanie"
   ]
  },
  {
   "cell_type": "markdown",
   "metadata": {},
   "source": [
    "Wylosuj liczbę z przedziału (1, 32). Następnie pytaj użytkownika dotąd, aż zgadnie tę liczbę. Dla ułatwienia, podaj za każdym razem, czy liczba do odgadnięcia jest wyższa, czy niższa. Kiedy użytkownik odgadnie tę liczbę, napisz, za którym razem.<br>\n",
    "Czy jest jakiś sposób na określenie z góry minimalnej liczby podejść GWARANTUJĄCEJ odgadnięcie? Jaki sposób należy przyjąć?"
   ]
  },
  {
   "cell_type": "code",
   "execution_count": null,
   "metadata": {
    "collapsed": true
   },
   "outputs": [],
   "source": []
  },
  {
   "cell_type": "code",
   "execution_count": null,
   "metadata": {
    "collapsed": true
   },
   "outputs": [],
   "source": []
  },
  {
   "cell_type": "markdown",
   "metadata": {},
   "source": [
    "### Zadanie"
   ]
  },
  {
   "cell_type": "markdown",
   "metadata": {},
   "source": [
    "Mamy dwie postaci: Elfa i Orka, o podanych parametrach.<br>\n",
    "Elf - Siła: 2, Wytrzymałość: 40, Zwinność: 80<br>\n",
    "Ork - Siła: 6, Wytrzymałość: 60, Zwinność: 40<br>\n",
    "<br>\n",
    "Dodatkowo, obie postaci posiadają broń, z której korzystają w ten sposób, że do Siły dodawany jest element losowy określony przez broń i to stanowi skumulowaną siłę ataku. Elf korzysta z miecza (2-4), a ork z maczugi (3-7).<br>\n",
    "Postaci atakują się naprzemiennie, w przypadku udanego ataku skumulowaną Siłę ataku odejmujemy od bieżącej Wytrzymałości. Atak jest udany, jeśli postaci nie uda się go uniknąć - każda z postaci ma na to szansę wyrażoną w Zwinności (w %). W przypadku spadku Wytrzymałości do zera, postać przegrywa.<br><br>\n",
    "Zaprogramuj symulację walki - ustal rozpoczynającego w sposób losowy. Wypisz każdy z kroków, np. Ork atakuje z Siłą 11... ale Elf unika ataku! Elf atakuje z Siłą 4... Ork traci 4 punkty Wytrzymałości.... [...] Ork wygrywa walkę!<br>\n",
    "<br>\n",
    "Przeprowadź wiele symulacji, np. 1000 (tym razem najlepiej zawinąć kod w pętlę, bez wypisywania każdego z kroków). Która postać częściej wygrywa?"
   ]
  },
  {
   "cell_type": "code",
   "execution_count": null,
   "metadata": {
    "collapsed": true
   },
   "outputs": [],
   "source": []
  },
  {
   "cell_type": "code",
   "execution_count": null,
   "metadata": {
    "collapsed": true
   },
   "outputs": [],
   "source": []
  }
 ],
 "metadata": {
  "kernelspec": {
   "display_name": "Python 3",
   "language": "python",
   "name": "python3"
  },
  "language_info": {
   "codemirror_mode": {
    "name": "ipython",
    "version": 3
   },
   "file_extension": ".py",
   "mimetype": "text/x-python",
   "name": "python",
   "nbconvert_exporter": "python",
   "pygments_lexer": "ipython3",
   "version": "3.6.3"
  }
 },
 "nbformat": 4,
 "nbformat_minor": 2
}
