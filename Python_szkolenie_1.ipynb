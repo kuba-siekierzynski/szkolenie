{
 "cells": [
  {
   "cell_type": "markdown",
   "metadata": {
    "slideshow": {
     "slide_type": "slide"
    }
   },
   "source": [
    "<table>\n",
    "    <tr>\n",
    "        <td bgcolor=\"#FFFFFF\"><img src=\"https://www.python.org/static/community_logos/python-logo.png\"/></td>\n",
    "        <td bgcolor=\"#FFFFFF\"><img src=\"https://www.bgzbnpparibas.pl/_cms-img/time20190226213800/bnp/bgzbnpparibas-logo.png\" width=\"50%\" length=\"50%\"/></td>\n",
    "    </tr>\n",
    "</table>\n",
    "<br><br><br><br><br><br>\n",
    "<h1 align=\"center\">Szkolenie z podstaw języka Python - marzec 2019</h1>\n",
    "<br><br><br><br><br><br>\n",
    "<h5 align=\"right\">Kuba Siekierzyński</h5>\n",
    "<br><br><br><br><br><br>\n",
    "<hr>\n",
    "<br><br><br><br><br><br>"
   ]
  },
  {
   "cell_type": "markdown",
   "metadata": {
    "slideshow": {
     "slide_type": "slide"
    }
   },
   "source": [
    "<br><br><br><br><br><br>\n",
    "<font color=\"#0088CC\">\n",
    "<b>OSTRZEŻENIE!</b><br><br>\n",
    "Poniższe treści mogą stanowić zagrożenie dla przytomności umysłu. Wysokie stężenie substancji uzależniających i powodujących bezsenność. Może nastąpić ból palców i nadgarstków. Obserwowane zwiększone spożycie kawy i innych napojów pobudzających. Zaleca się stosowanie w umiarkowanych dawkach, acz regularnie.\n",
    "    <h5 align=\"right\">-- zostaliście ostrzeżeni --</h5>\n",
    "</font>"
   ]
  },
  {
   "cell_type": "markdown",
   "metadata": {},
   "source": [
    "<hr>\n",
    "<br><br><br><br><br><br>\n",
    "### Podstawowe informacje o Pythonie:\n",
    "<ul>\n",
    "    <li>stworzony przez Guido Van Rossum'a w latach 90. XX w. - rozwijany w <i>open source</i></li>\n",
    "    <li><b>skryptowy</b> język programowania <b>wysokiego poziomu</b></li>\n",
    "    <li>wymaga <b>interpretera</b> lub <b>IDE</b></li>\n",
    "    <li>wspiera różne paradygmaty programowania: obiektowe, imperatywne, funkcyjne</li>\n",
    "    <li>wszystko jest <b>obiektem</b></li>\n",
    "    <li>typowanie <b>dynamiczne</b> - zmienne nie mają stałych typów!</li>\n",
    "    <li><b>składnia</b> ma znaczenie, wielkość liter <b>ma znaczenie</b></li>\n",
    "    <li>bogata <b>biblioteka podstawowa</b>, ale siłą Pythona są moduły dodatkowe</li>\n",
    "</ul>\n",
    "<br><br><br><br><br><br>\n",
    "<hr>"
   ]
  },
  {
   "cell_type": "markdown",
   "metadata": {},
   "source": [
    "<br><br><br><br><br><br>\n",
    "### Praca z notebook'iem vs IDE\n",
    "\n",
    "<b>Notebook</b><br>\n",
    "Każda komórka może zawierać kod w Pythonie lub tzw. markdown. Komórki z kodem mogą być wywoływane w dowolnej kolejności, a wtedy kod w nich zawarty jest wykonywany <b>na obecnym stanie programu</b>. Oznacza to, że wszelkie zmienne, funkcje oraz importowane moduły, do których odwołuje się kod w wywoływanej komórce muszą być wcześniej zadeklarowane, a kod po wywołaniu wpływa na ich wartości. Do kodu napisanego w ten sposób odnosimy się per <b>notatnik</b> - rozszerzenie pliku: .ipynb\n",
    "\n",
    "<b>IDE</b><br>\n",
    "Kod pisany jest \"ciągiem\" jako całość, ew. podzielony na bloki lub pliki z klasami. Z reguły nie ma wywoływania fragmentów kodu, cały program uruchamia się na raz. Zwykle programy napisane w ten sposób nazywa się <b>skryptami</b>. Rozszerzenie pliku: .py\n",
    "<br><br><br><br><br><br>\n",
    "<hr>"
   ]
  },
  {
   "cell_type": "markdown",
   "metadata": {},
   "source": [
    "### Podstawy składni"
   ]
  },
  {
   "cell_type": "code",
   "execution_count": null,
   "metadata": {},
   "outputs": [],
   "source": [
    "print(\"Hello world!\") # podstawowa instrukcja w każdym języku :)"
   ]
  },
  {
   "cell_type": "code",
   "execution_count": null,
   "metadata": {
    "collapsed": true
   },
   "outputs": [],
   "source": [
    "# komentarz w jednej linijce"
   ]
  },
  {
   "cell_type": "code",
   "execution_count": null,
   "metadata": {},
   "outputs": [],
   "source": [
    "'''Komentarz\n",
    "w wielu\n",
    "linijkach\n",
    "działa trochę\n",
    "inaczej w notebooku\n",
    "niż normalnie.''' # to jest tzw. string literal, czyli \"dosłowny\", tak, jak jest zapisany"
   ]
  },
  {
   "cell_type": "code",
   "execution_count": null,
   "metadata": {
    "collapsed": true
   },
   "outputs": [],
   "source": [
    "if 2 > 1: # logiczny fragment kodu jest ułożony w blok, który jest WCIĘTY względem bloku wyższego rzędu\n",
    "    print('Tak')"
   ]
  },
  {
   "cell_type": "code",
   "execution_count": null,
   "metadata": {},
   "outputs": [],
   "source": [
    "PRINT('Hello World!') # wielkość liter MA znaczenie"
   ]
  },
  {
   "cell_type": "code",
   "execution_count": null,
   "metadata": {},
   "outputs": [],
   "source": [
    "help(print) # bardzo przydatna funkcja \"help\""
   ]
  },
  {
   "cell_type": "markdown",
   "metadata": {},
   "source": [
    "<hr>\n",
    "### Działania na liczbach"
   ]
  },
  {
   "cell_type": "code",
   "execution_count": null,
   "metadata": {},
   "outputs": [],
   "source": [
    "(3 + 49 / 7 ** 2) * 4 # PEMDAS - parentheses, exponent, multiplication, division, addition, subtraction"
   ]
  },
  {
   "cell_type": "code",
   "execution_count": null,
   "metadata": {},
   "outputs": [],
   "source": [
    "print(5 + 6) # w notatniku print zwraca output z wcięciem"
   ]
  },
  {
   "cell_type": "code",
   "execution_count": null,
   "metadata": {},
   "outputs": [],
   "source": [
    "print(15 % 4) # modulo - reszta z dzielenia..."
   ]
  },
  {
   "cell_type": "code",
   "execution_count": null,
   "metadata": {},
   "outputs": [],
   "source": [
    "print(-15 % 4) # ...prawie"
   ]
  },
  {
   "cell_type": "code",
   "execution_count": null,
   "metadata": {},
   "outputs": [],
   "source": [
    "print(123 / (3 % 1)) # ZeroDivisionError - błędy KOŃCZĄ działanie programu!!!"
   ]
  },
  {
   "cell_type": "code",
   "execution_count": null,
   "metadata": {},
   "outputs": [],
   "source": [
    "15 / 7, 15 // 7 # float vs floor division - floats vs integers"
   ]
  },
  {
   "cell_type": "code",
   "execution_count": null,
   "metadata": {},
   "outputs": [],
   "source": [
    "print(3 // 2, -3 // 2) # floor division działa \"dziwnie\""
   ]
  },
  {
   "cell_type": "code",
   "execution_count": null,
   "metadata": {},
   "outputs": [],
   "source": [
    "print(2 * 8 / 4) # mimo, iż działanie jest na integerach, float division ZAWSZE zwraca float (albo błąd)"
   ]
  },
  {
   "cell_type": "code",
   "execution_count": null,
   "metadata": {},
   "outputs": [],
   "source": [
    "print(max(47/13, 52/14))     # zwraca maksymalną wartość z podanych\n",
    "print(min(-5, -6.2, -38/6))  # zwraca minimalną"
   ]
  },
  {
   "cell_type": "code",
   "execution_count": null,
   "metadata": {},
   "outputs": [],
   "source": [
    "# print(sum(3/2, 5//2, 7%3, 4 * 3)) # taki zabieg nie zadziała...\n",
    "print(sum((3/2, 5//2, 7%3, 4 * 3))) # ale taki owszem - później dowiemy się dlaczego"
   ]
  },
  {
   "cell_type": "code",
   "execution_count": null,
   "metadata": {},
   "outputs": [],
   "source": [
    "print(abs(-5.24))  # zwraca wartość absolutną"
   ]
  },
  {
   "cell_type": "code",
   "execution_count": null,
   "metadata": {},
   "outputs": [],
   "source": [
    "# print(sqrt(2)) # nie ma działania na pierwiastek..."
   ]
  },
  {
   "cell_type": "code",
   "execution_count": null,
   "metadata": {},
   "outputs": [],
   "source": [
    "print(2**0.5) #... ale można sobie poradzić :)"
   ]
  },
  {
   "cell_type": "code",
   "execution_count": null,
   "metadata": {},
   "outputs": [],
   "source": [
    "print(7 < 7.0000000000000001) # problem liczb zmiennoprzecinkowych"
   ]
  },
  {
   "cell_type": "markdown",
   "metadata": {},
   "source": [
    "<hr>\n",
    "## ZADANIE #1\n",
    "<font color=\"#0088CC\">\n",
    "Napisz i rozwiąż poniższe działanie w Pythonie:\n",
    "$$\\sqrt{3^2 + 4^2} - (5\\%7) =\\ ?$$</font>"
   ]
  },
  {
   "cell_type": "code",
   "execution_count": null,
   "metadata": {
    "collapsed": true
   },
   "outputs": [],
   "source": []
  },
  {
   "cell_type": "markdown",
   "metadata": {},
   "source": [
    "<br><br><br><br><br><br>\n",
    "<hr>\n",
    "### Strings - napisy"
   ]
  },
  {
   "cell_type": "code",
   "execution_count": null,
   "metadata": {},
   "outputs": [],
   "source": [
    "'Ala Ma Kota' # strings - możemy deklarować z użyciem pojedynczych lub podwójnych cudzysłowów\n",
    "\"Ala Ma Kota\"\n",
    "\n",
    "print(\"Ala Ma Kota\" == 'Ala Ma Kota') # znak == oznacza \"(czy) jest równe\""
   ]
  },
  {
   "cell_type": "code",
   "execution_count": null,
   "metadata": {},
   "outputs": [],
   "source": [
    "'I powiedział: \"Idź sobie\", więc poszłam' # możemy użyć pojedynczych, kiedy podwójne mają być elementem tekstu"
   ]
  },
  {
   "cell_type": "code",
   "execution_count": null,
   "metadata": {},
   "outputs": [],
   "source": [
    "\"I powiedział: \\\"Idź sobie\\\", więc poszłam\" # jeśli nie da się uniknąć, stosujemy tzw. escaping z backslashem"
   ]
  },
  {
   "cell_type": "code",
   "execution_count": null,
   "metadata": {},
   "outputs": [],
   "source": [
    "\"Ala Ma Kota \" * 20 # operacja mnożenia stringa przez integer"
   ]
  },
  {
   "cell_type": "code",
   "execution_count": null,
   "metadata": {},
   "outputs": [],
   "source": [
    "\"Ala Ma Kota\"[4:] # slicing od"
   ]
  },
  {
   "cell_type": "code",
   "execution_count": null,
   "metadata": {},
   "outputs": [],
   "source": [
    "\"Ala Ma Kota\"[:4] # slicing do"
   ]
  },
  {
   "cell_type": "code",
   "execution_count": null,
   "metadata": {},
   "outputs": [],
   "source": [
    "\"Ala Ma Kota\"[::2] # slicing co"
   ]
  },
  {
   "cell_type": "code",
   "execution_count": null,
   "metadata": {},
   "outputs": [],
   "source": [
    "'Ala Ma Kota'[::-1] # slicing co ujemne"
   ]
  },
  {
   "cell_type": "code",
   "execution_count": null,
   "metadata": {},
   "outputs": [],
   "source": [
    "'Ala Ma Kota'[-2:3:-2] # slicing od drugiego od końca do trzeciego od początku co dwie w tył"
   ]
  },
  {
   "cell_type": "code",
   "execution_count": null,
   "metadata": {},
   "outputs": [],
   "source": [
    "'' # pusty string"
   ]
  },
  {
   "cell_type": "markdown",
   "metadata": {},
   "source": [
    "<hr>\n",
    "### ZADANIE #2\n",
    "<font color=\"#0088CC\">\n",
    "Wstaw odpowiednie liczby, żeby uzyskać słowo 'IRA'</font>"
   ]
  },
  {
   "cell_type": "code",
   "execution_count": null,
   "metadata": {},
   "outputs": [],
   "source": [
    "'BGZ BNP PARIBAS'[::]"
   ]
  },
  {
   "cell_type": "markdown",
   "metadata": {},
   "source": [
    "<br><br><br><br><br><br>\n",
    "<hr>\n",
    "### Zmienne - zasady i reguły nazewnictwa"
   ]
  },
  {
   "cell_type": "markdown",
   "metadata": {},
   "source": [
    "W odróżnieniu od wielu innych języków programowania, zmienne w Pythonie nie mają z góry deklarowanego typu. Zmienna, której przyporządkowano typ liczbowy może w następnej linijce (albo nawet w tej samej) zostać skonwertowana do innego typu (o czym szerzej później).<br>\n",
    "Ponieważ <b>kod częściej się czyta, niż go pisze</b>, nazwy powinny oczywiście odzwierciedlać przeznaczenie zmiennych i być w intuicyjny sposób zrozumiałe.<br><br>Mimo dość dużej dowolności, istnieją jednak pewne konwencje dotyczące samego nazewnictwa:\n",
    "<ul>\n",
    "    <li>nazwy zmiennych mogą zawierać litery, cyfry lub znak \"_\"</li>\n",
    "    <li>nazwy nie mogą <b>zaczynać się</b> od cyfry</li>\n",
    "    <li>nazwy zmiennych nie powinny być takie same jak:</li>\n",
    "    <ul>\n",
    "        <li><b>słowa kluczowe</b> w Pythonie - np. print, pass, and, or, if, etc.</li>\n",
    "        <li>nazwy funkcji, klas, modułów, plików lub zmiennych importowanych z innych modułów</li>\n",
    "    </ul>\n",
    "</ul>\n",
    "<br>\n",
    "Wyróżniamy też kilka konwencji samej pisowni zmiennych:\n",
    "<ul>\n",
    "    <li>camelCase - budowane z członów, z których pierwszy zaczyna się małą literą, a reszta wielkimi - np. netWeight, isPaymentValid</li>\n",
    "    <li>PascalCase - wszystkie człony od wielkiej litery - np. ClientId, DealValue</li>\n",
    "    <li>snake_case - człony pisane małymi literami oddzielone _ - np. debt_to_income, transaction_status</li>\n",
    "</ul>\n",
    "<br>\n",
    "Ważne są też konwencje dotyczące pisowni nazw określonego przeznaczenia, np:\n",
    "<ul>\n",
    "    <li>stałe - pisane wielkimi literami rozdzielonymi podkreślnikiem, np. BANK\\_ACCOUNT\\_NUMBER</li>\n",
    "    <li>nazwy klas - pisane PascalCase'm - np. NewClients</li>\n",
    "    <li>zmienne prywatne - nazwy zaczynające się od _ - np. _errorNum</li>\n",
    "</ul>"
   ]
  },
  {
   "cell_type": "code",
   "execution_count": null,
   "metadata": {},
   "outputs": [],
   "source": [
    "_ = 'zmienna' # klasyczny przykład w szkoleniach - tzw. placeholder\n",
    "print(_)"
   ]
  },
  {
   "cell_type": "markdown",
   "metadata": {},
   "source": [
    "<hr>\n",
    "### ZADANIE #3\n",
    "<font color=\"#0088CC\">Które z poniższych nazw zmiennych są prawidłowe?</font><br>\n",
    "<ul>\n",
    "    <li>A1234A</li>\n",
    "    <li>abc-def</li>\n",
    "    <li>12days</li>\n",
    "    <li>_arg3</li>\n",
    "    <li>Deal ID</li>\n",
    "    <li>logotype$</li>\n",
    "    <li>print</li>\n",
    "</ul>"
   ]
  },
  {
   "cell_type": "code",
   "execution_count": null,
   "metadata": {
    "collapsed": true
   },
   "outputs": [],
   "source": []
  },
  {
   "cell_type": "markdown",
   "metadata": {},
   "source": [
    "<br>\n",
    "### Operatory zmiennych"
   ]
  },
  {
   "cell_type": "code",
   "execution_count": null,
   "metadata": {},
   "outputs": [],
   "source": [
    "p = 1.2  # pojedynczy znak = oznacza przypisanie wartości zmiennej\n",
    "q = 2.5\n",
    "print(p, q)"
   ]
  },
  {
   "cell_type": "code",
   "execution_count": null,
   "metadata": {},
   "outputs": [],
   "source": [
    "print(p == q) # porównanie - czy p równa się q?\n",
    "print(p < q)  # porównania - czy p jest mniejsze od q?\n",
    "print(p <= q) # porównanie - czy p jest mniejsze lub równe q?\n",
    "print(p >= q) # porównanie - czy p jest większe lub równe q?\n",
    "print(p > q)  # porównanie - czy p jest większe od q?\n",
    "print(p != q) # porównanie - czy p nie jest równe q?"
   ]
  },
  {
   "cell_type": "code",
   "execution_count": null,
   "metadata": {},
   "outputs": [],
   "source": [
    "p, q = 2.5, 1.2  # takie przypisanie jest też możliwe\n",
    "print(p, q)"
   ]
  },
  {
   "cell_type": "code",
   "execution_count": null,
   "metadata": {},
   "outputs": [],
   "source": [
    "p, q = q, p  # Python wspiera tego typu możliwość zamiany wartości dwóch (lub więcej) zmiennych bez zmiennej pośredniczącej\n",
    "print(p, q)"
   ]
  },
  {
   "cell_type": "code",
   "execution_count": null,
   "metadata": {},
   "outputs": [],
   "source": [
    "p = p + 1  # to nie jest równanie matematyczne :) To przypisanie p wartości bieżącej powiększonej o 1\n",
    "print(p)"
   ]
  },
  {
   "cell_type": "code",
   "execution_count": null,
   "metadata": {},
   "outputs": [],
   "source": [
    "p += 1 # to samo, co wyżej - zapis skrócony\n",
    "print(p)"
   ]
  },
  {
   "cell_type": "code",
   "execution_count": null,
   "metadata": {},
   "outputs": [],
   "source": [
    "p -= 1 # pomniejsz p o 1\n",
    "p *= 2 # pomnóż p przez 2\n",
    "p /= 3 # podziel p na 3\n",
    "p **= 4 # podnieś p do potęgi 4\n",
    "print(p)"
   ]
  },
  {
   "cell_type": "code",
   "execution_count": null,
   "metadata": {},
   "outputs": [],
   "source": [
    "p %= q # przypisz p wartość reszty z dzielenia p przez q\n",
    "print(p)"
   ]
  },
  {
   "cell_type": "code",
   "execution_count": null,
   "metadata": {},
   "outputs": [],
   "source": [
    "p = 2 \n",
    "q = 2.0\n",
    "print(p == q) # wynik porównania zmiennych różnych typów zależy od ich implementacji\n",
    "print(p is q) # operator is sprawdza, czy obie zmienne wskazują na ten sam adres pamięci"
   ]
  },
  {
   "cell_type": "code",
   "execution_count": null,
   "metadata": {},
   "outputs": [],
   "source": [
    "s = 'ABCDEFGHIJ'\n",
    "print('ABC' in s) # czy 'ABC' znajduje się w s"
   ]
  },
  {
   "cell_type": "code",
   "execution_count": null,
   "metadata": {},
   "outputs": [],
   "source": [
    "r = 0 # jedyna wartość liczbowa, która zwraca False\n",
    "\n",
    "print(all((p, q, r))) # zwraca True tylko, jeśli wszystkie elementy są True - uwaga na nawiasy!\n",
    "print(any((p, q, r))) # zwraca True jeśli choć jeden element jest True"
   ]
  },
  {
   "cell_type": "markdown",
   "metadata": {},
   "source": [
    "<br>\n",
    "### Wartość 'None'"
   ]
  },
  {
   "cell_type": "markdown",
   "metadata": {},
   "source": [
    "None jest specyficznym obiektem typu NoneType. W odróżnieniu od np. SQL, niekoniecznie oznacza \"brak wartości\". Zmienne lub funkcje mogą mieć wartość None, co automatycznie oznacza przyporządkowanie im typu NoneType (nawet, jeśli wcześniej miały np. int lub str). Wartość ta może zostać normalnie przypisana, ręcznie lub w wyniku zwrócenia przez funkcję."
   ]
  },
  {
   "cell_type": "code",
   "execution_count": null,
   "metadata": {},
   "outputs": [],
   "source": [
    "p, q = None, None\n",
    "print(type(p), type(q))\n",
    "print(p == q)\n",
    "print(p is q)"
   ]
  },
  {
   "cell_type": "markdown",
   "metadata": {},
   "source": [
    "<br><br><br><br><br><br>\n",
    "<hr>\n",
    "### Typ string, metody i wprowadzenie do funkcji"
   ]
  },
  {
   "cell_type": "markdown",
   "metadata": {},
   "source": [
    "<b>string</b> to typ danych, a w Pythonie to klasa obiektów str (wszystko jest obiektem). Jak każda klasa, zawiera właściwe sobie <b>metody</b> (funkcje), które odpowiadają za określone operacje na zmiennych. Metody są wywoływane po kropce, a wartość funkcji jest zwracana przy użyciu nawiasów ().\n",
    "<br>\n",
    "W nawiasach podajemy argumenty funkcji (w zależności od sposobu jej zdefiniowania), ale mogą być też takie metody, które wywołuje się bez argumentów."
   ]
  },
  {
   "cell_type": "code",
   "execution_count": null,
   "metadata": {},
   "outputs": [],
   "source": [
    "s = 'Ala Ma Kota' # wprowadzamy zmienną s, która będzie stringiem\n",
    "print(s)"
   ]
  },
  {
   "cell_type": "code",
   "execution_count": null,
   "metadata": {},
   "outputs": [],
   "source": [
    "print(s.casefold()) # małe litery"
   ]
  },
  {
   "cell_type": "code",
   "execution_count": null,
   "metadata": {},
   "outputs": [],
   "source": [
    "print(s.lower()) # małe litery"
   ]
  },
  {
   "cell_type": "code",
   "execution_count": null,
   "metadata": {},
   "outputs": [],
   "source": [
    "print(s.upper()) # wielkie litery"
   ]
  },
  {
   "cell_type": "code",
   "execution_count": null,
   "metadata": {},
   "outputs": [],
   "source": [
    "print(s + s[3:].lower()) # konkatenacja"
   ]
  },
  {
   "cell_type": "code",
   "execution_count": null,
   "metadata": {},
   "outputs": [],
   "source": [
    "s.capitalize() # tylko pierwsza litera wielka"
   ]
  },
  {
   "cell_type": "code",
   "execution_count": null,
   "metadata": {},
   "outputs": [],
   "source": [
    "s.center(20) # utwórz string 20-znakowy i wyśrodkuj (ta metoda przyjmuje argument)"
   ]
  },
  {
   "cell_type": "code",
   "execution_count": null,
   "metadata": {},
   "outputs": [],
   "source": [
    "s.ljust(30) # wyrównaj do lewej\n",
    "s.rjust(20) # lub do prawej"
   ]
  },
  {
   "cell_type": "markdown",
   "metadata": {},
   "source": [
    "Kilka powyższych przykładów jest zapisanych bez użycia \"print\". Mimo to, rezultat funkcji zostaje wyświetlony. Jest to możliwe dzięki koncepcji <b>zwracania</b> wartości przez funkcje. Wszystkie powyższe metody stringów zwracają wartość po przetworzeniu, którą można np. przypisać kolejnej zmiennej albo (w paradygmacie funkcyjnym) wywołać na niej kolejną funkcję."
   ]
  },
  {
   "cell_type": "code",
   "execution_count": null,
   "metadata": {},
   "outputs": [],
   "source": [
    "print(s) # ponieważ powyższe funkcje NIE ZMIENIAJĄ zmiennej, a tylko ZWRACAJĄ rezultat - s nadal przechowuje początkową wartość"
   ]
  },
  {
   "cell_type": "code",
   "execution_count": null,
   "metadata": {},
   "outputs": [],
   "source": [
    "s = s + ' A Kot Ma Ale'\n",
    "print(s)"
   ]
  },
  {
   "cell_type": "code",
   "execution_count": null,
   "metadata": {},
   "outputs": [],
   "source": [
    "ss = s\n",
    "ss += ' I Nie Kocha Jej Wcale' # skrócone operatory przypisania +=, -=, /=, //=, *=, %=, etc.\n",
    "print(ss)"
   ]
  },
  {
   "cell_type": "code",
   "execution_count": null,
   "metadata": {},
   "outputs": [],
   "source": [
    "print(ss.replace('Kot', 'Byk')) # zamień WSZYSTKIE wystąpienia łańcucha 'Kot' na 'Byk'"
   ]
  },
  {
   "cell_type": "code",
   "execution_count": null,
   "metadata": {},
   "outputs": [],
   "source": [
    "print(ss.find('Kot'))  # na którym miejscu (indeks) znajduje się fraza 'Kot' w ss\n",
    "print(ss.rfind('Kot')) # na którym miejscu NAJDALEJ znajduje się fraza 'Kot' w ss\n",
    "print(ss.find('Pies')) # zwraca -1 jeśli nie odnaleziono"
   ]
  },
  {
   "cell_type": "code",
   "execution_count": null,
   "metadata": {},
   "outputs": [],
   "source": [
    "t = s.lower() # rezultat operacji na s został przypisany do nowej zmiennej t\n",
    "print(s, t)"
   ]
  },
  {
   "cell_type": "code",
   "execution_count": null,
   "metadata": {
    "scrolled": true
   },
   "outputs": [],
   "source": [
    "print(t > s) # zwraca wartość porównania argumentów - Python rozróżnia małe i wielkie litery!"
   ]
  },
  {
   "cell_type": "code",
   "execution_count": null,
   "metadata": {},
   "outputs": [],
   "source": [
    "print(t.lower() == s.lower()) # a tu już wszystko w porządku"
   ]
  },
  {
   "cell_type": "code",
   "execution_count": null,
   "metadata": {},
   "outputs": [],
   "source": [
    "print(t.upper() != s.lower()) # != oznacza NIE RÓWNA SIĘ"
   ]
  },
  {
   "cell_type": "code",
   "execution_count": null,
   "metadata": {},
   "outputs": [],
   "source": [
    "'BGZ BNP PARIBAS'.index('B') # na którym miejscu występuje znak 'B' (zwraca pierwsze wystąpienie)"
   ]
  },
  {
   "cell_type": "code",
   "execution_count": null,
   "metadata": {},
   "outputs": [],
   "source": [
    "'BGZ BNP PARIBAS'.count('B') # ile razy w stringu występuje substring"
   ]
  },
  {
   "cell_type": "code",
   "execution_count": null,
   "metadata": {},
   "outputs": [],
   "source": [
    "print(len('BGZ BNP PARIBAS')) # podaj długość łańcucha znaków"
   ]
  },
  {
   "cell_type": "code",
   "execution_count": null,
   "metadata": {},
   "outputs": [],
   "source": [
    "print(ss.split()) # rozbija string na kawałki wg podanego argumentu (lub spacji jeśli nie podano)"
   ]
  },
  {
   "cell_type": "code",
   "execution_count": null,
   "metadata": {},
   "outputs": [],
   "source": [
    "print(ss.split('Ma', maxsplit=1))   # można użyć z parametrem maxsplit\n",
    "print(ss.rsplit('Ma', maxsplit=1))  # split wykonany \"od prawej\""
   ]
  },
  {
   "cell_type": "code",
   "execution_count": null,
   "metadata": {},
   "outputs": [],
   "source": [
    "tt = ss.center(60, '#') # tt ma długość 60 znaków z wyśrodkowanym ss oraz hashami po obu stronach\n",
    "print(tt)"
   ]
  },
  {
   "cell_type": "code",
   "execution_count": null,
   "metadata": {},
   "outputs": [],
   "source": [
    "print(tt.lstrip('#')) # usuń hashe z lewej strony (lub spacje, jeśli argument jest pusty)\n",
    "print(tt.rstrip('#')) # usuń hashe z prawej strony\n",
    "print(tt.strip('#')) # usuń hashe z obu stron"
   ]
  },
  {
   "cell_type": "code",
   "execution_count": null,
   "metadata": {},
   "outputs": [],
   "source": [
    "agent = '7'.zfill(3) # funkcja zfill dostawia zera z lewej strony stringa do długości podanej w argumencie\n",
    "print(agent)         # bardzo przydatne przy pracy z danymi typu numery PESEL, numery IP, etc."
   ]
  },
  {
   "cell_type": "code",
   "execution_count": null,
   "metadata": {},
   "outputs": [],
   "source": [
    "s. # Jupyter Notebook podpowiada dostępne metody - ustaw kursor na kropce i wciśnij TAB"
   ]
  },
  {
   "cell_type": "code",
   "execution_count": null,
   "metadata": {},
   "outputs": [],
   "source": [
    "print # Jupyter podpowiada też dostępną składnię metod - wciśnij Shift+TAB"
   ]
  },
  {
   "cell_type": "code",
   "execution_count": null,
   "metadata": {},
   "outputs": [],
   "source": [
    "print('ABCD', 'EFGH', 'IJKL', sep='! ', end='?') # argumenty funkcji print - w tym argumenty nazwane (named)"
   ]
  },
  {
   "cell_type": "code",
   "execution_count": null,
   "metadata": {},
   "outputs": [],
   "source": [
    "print('|'.join('Ala Ma Kota A Kot Ma Ale'))  # .join wykorzystuje string  go jako łącznik z elementami zmiennej iterowalnej"
   ]
  },
  {
   "cell_type": "code",
   "execution_count": null,
   "metadata": {
    "collapsed": true
   },
   "outputs": [],
   "source": []
  },
  {
   "cell_type": "markdown",
   "metadata": {},
   "source": [
    "<br>\n",
    "### Funkcja input()"
   ]
  },
  {
   "cell_type": "code",
   "execution_count": null,
   "metadata": {},
   "outputs": [],
   "source": [
    "name = input('Jak masz na imię?') # input ZAWSZE zwraca string\n",
    "print('Witaj', name) # funkcja print() wypisze zmienne różnego typu po przecinku\n",
    "\n",
    "print('Witaj %s' %name)           # formatowanie z procentem\n",
    "print('Witaj {}'.format(name))    # formatowanie z klamrami\n",
    "print(f'Witaj {name}')            # f-strings (od Pythona 3.5)"
   ]
  },
  {
   "cell_type": "markdown",
   "metadata": {},
   "source": [
    "<hr>\n",
    "### ZADANIE #4\n",
    "<font color=\"#0088CC\">\n",
    "Zapytaj użytkownika o wyraz, a następnie o znak i wypisz ile razy dany znak występuje w podanym słowie. Następnie wypisz fragmenty łańcucha rozdzielone przez ten znak.</font>"
   ]
  },
  {
   "cell_type": "code",
   "execution_count": null,
   "metadata": {
    "collapsed": true
   },
   "outputs": [],
   "source": []
  },
  {
   "cell_type": "markdown",
   "metadata": {},
   "source": [
    "<br><br><br><br><br><br>\n",
    "<hr>\n",
    "### Typy danych, konwersja typów"
   ]
  },
  {
   "cell_type": "code",
   "execution_count": null,
   "metadata": {},
   "outputs": [],
   "source": [
    "s = '6'\n",
    "t = 6\n",
    "print(s, t) # na wyjściu może nie być widać różnicy"
   ]
  },
  {
   "cell_type": "code",
   "execution_count": null,
   "metadata": {},
   "outputs": [],
   "source": [
    "s, t # tu widzimy, że s jest stringiem, a t liczbą"
   ]
  },
  {
   "cell_type": "code",
   "execution_count": null,
   "metadata": {},
   "outputs": [],
   "source": [
    "print(s * t)"
   ]
  },
  {
   "cell_type": "code",
   "execution_count": null,
   "metadata": {},
   "outputs": [],
   "source": [
    "s == t"
   ]
  },
  {
   "cell_type": "code",
   "execution_count": null,
   "metadata": {},
   "outputs": [],
   "source": [
    "s > t # nie zawsze można porównywać wielkości różnych typów"
   ]
  },
  {
   "cell_type": "code",
   "execution_count": null,
   "metadata": {},
   "outputs": [],
   "source": [
    "s.isnumeric() # sprawdza, czy string jest numeryczny (czyli czy da się skonwertować na liczbę)"
   ]
  },
  {
   "cell_type": "code",
   "execution_count": null,
   "metadata": {},
   "outputs": [],
   "source": [
    "s2 = int(s) # funkcja int() zamienia string na integer\n",
    "print(s2)"
   ]
  },
  {
   "cell_type": "code",
   "execution_count": null,
   "metadata": {},
   "outputs": [],
   "source": [
    "s2 == t"
   ]
  },
  {
   "cell_type": "code",
   "execution_count": null,
   "metadata": {},
   "outputs": [],
   "source": [
    "# Chcemy uzyskać wynik razy 2\n",
    "n = input('Ile masz lat?')\n",
    "print(n * 2)  # to nie daje spodziewanych efektów"
   ]
  },
  {
   "cell_type": "code",
   "execution_count": null,
   "metadata": {},
   "outputs": [],
   "source": [
    "n = int(input('Ile masz lat?')) # musimy zmienić typ danych\n",
    "print(n * 2)"
   ]
  },
  {
   "cell_type": "code",
   "execution_count": null,
   "metadata": {},
   "outputs": [],
   "source": [
    "s3 = float(s) # funkcja float() zamienia string na float\n",
    "s3"
   ]
  },
  {
   "cell_type": "code",
   "execution_count": null,
   "metadata": {},
   "outputs": [],
   "source": [
    "print(s, s2, s3)"
   ]
  },
  {
   "cell_type": "code",
   "execution_count": null,
   "metadata": {},
   "outputs": [],
   "source": [
    "s2 == s3, s2 is s3 # różnica między '==' i 'is' - ta druga sprawdza, czy zmienne wskazują na to samo miejsce w pamięci"
   ]
  },
  {
   "cell_type": "code",
   "execution_count": null,
   "metadata": {},
   "outputs": [],
   "source": [
    "isinstance(s, str) # czy s jest zmienną typu string?"
   ]
  },
  {
   "cell_type": "markdown",
   "metadata": {},
   "source": [
    "<hr>\n",
    "### ZADANIE #5\n",
    "<font color=\"#0088CC\">\n",
    "Sprawdź i wypisz, jaka będzie długość łańcucha znaków powstałego z zamiany na string wyniku działania: 1/7</font>"
   ]
  },
  {
   "cell_type": "code",
   "execution_count": null,
   "metadata": {
    "collapsed": true
   },
   "outputs": [],
   "source": []
  },
  {
   "cell_type": "markdown",
   "metadata": {},
   "source": [
    "<br><br><br><br><br><br>\n",
    "### Typ boolean - operatory i warunki"
   ]
  },
  {
   "cell_type": "code",
   "execution_count": null,
   "metadata": {},
   "outputs": [],
   "source": [
    "print(bool(1 - 1)) # zmienna typu boolean - True (1) lub False (0)"
   ]
  },
  {
   "cell_type": "markdown",
   "metadata": {},
   "source": [
    "#### AND"
   ]
  },
  {
   "cell_type": "code",
   "execution_count": null,
   "metadata": {},
   "outputs": [],
   "source": [
    "print('Operator \"and\"')\n",
    "print('False and False:', False and False)\n",
    "print('False and True:', False and True)\n",
    "print('True and False:', True and False)\n",
    "print('True and True:', True and True)"
   ]
  },
  {
   "cell_type": "markdown",
   "metadata": {},
   "source": [
    "#### OR"
   ]
  },
  {
   "cell_type": "code",
   "execution_count": null,
   "metadata": {},
   "outputs": [],
   "source": [
    "print('Operator \"or\"')\n",
    "print('False or False:', False or False)\n",
    "print('False or True:', False or True)\n",
    "print('True or False:', True or False)\n",
    "print('True or True:', True or True)"
   ]
  },
  {
   "cell_type": "markdown",
   "metadata": {},
   "source": [
    "#### NOT"
   ]
  },
  {
   "cell_type": "code",
   "execution_count": null,
   "metadata": {},
   "outputs": [],
   "source": [
    "print('Operator \"not\"')\n",
    "print('not False:', not False)\n",
    "print('not True:', not True)"
   ]
  },
  {
   "cell_type": "code",
   "execution_count": null,
   "metadata": {},
   "outputs": [],
   "source": [
    "print(True and False or not True) # kolejność - not, or, and"
   ]
  },
  {
   "cell_type": "markdown",
   "metadata": {},
   "source": [
    "<br>\n",
    "### Instrukcje warunkowe - if, elif, else"
   ]
  },
  {
   "cell_type": "markdown",
   "metadata": {},
   "source": [
    "Składnia języka Python jest specyficzna i dość wymagająca. Logiczne całości kodu, bloki, wyodrębniane są przez wcięcie tekstu w stosunku do bloku wyższego rzędu. Początek podbloku syngalizuje się umieszczając dwukropek w poprzedzającej go linijce blkou wyższego rzędu."
   ]
  },
  {
   "cell_type": "code",
   "execution_count": null,
   "metadata": {},
   "outputs": [],
   "source": [
    "if 5 < 4:               # instrukcja warunkowa - jeśli warunek (lub wyrażenie) jest True, wykonaj blok we wcięciu\n",
    "    print('prawda')     # wcięcie - zwykle 4 spacje - jest BARDZO WAŻNE w sensie składni\n",
    "else:                   # w przeciwnym razie (jeśli warunek z if nie jest prawdziwy)\n",
    "    print('fałsz')"
   ]
  },
  {
   "cell_type": "code",
   "execution_count": null,
   "metadata": {},
   "outputs": [],
   "source": [
    "if (5 + 5 > 10) and (1 == 1):  # w if może być też całe wyrażenie\n",
    "    print('większe')\n",
    "elif 5 + 5 < 10:               # else if --> elif - może ich być dowolna liczba - zadziała PIERWSZY prawdziwy\n",
    "    print('mniejsze')\n",
    "else:                          # else oznacza - jeśli ŻADEN z powyższych warunków nie został spełniony\n",
    "    print('równe')"
   ]
  },
  {
   "cell_type": "code",
   "execution_count": null,
   "metadata": {},
   "outputs": [],
   "source": [
    "if 1 == 0:\n",
    "    print('A')\n",
    "elif 1 == 1:\n",
    "    if 1 == 0:\n",
    "        print('B') # podwójne wcięcie, zagnieżdżone instrukcje if\n",
    "    else:\n",
    "        print('C')\n",
    "else:\n",
    "    print('D')"
   ]
  },
  {
   "cell_type": "markdown",
   "metadata": {},
   "source": [
    "<hr>\n",
    "### ZADANIE #6\n",
    "<font color=\"0088CC\">\n",
    "Napisz kod, który pyta użytkownika o wiek. Jeśli wiek jest poniżej 13 roku życia, wypisz \"X to za mało\", np. \"11 to za mało\". Jeśli od 13 do 18, spytaj, czy rodzic się zgadza (T/N). Jeśli zgadza, wypisz \"Siema\", jeśli nie - \"Niestety, poczekaj jeszcze X lat\". Jeśli wiek powyżej 18 roku życia, sprawdź, czy poniżej 72. Jeśli tak, wypisz \"Serdecznie witamy\", jeśli nie np. - \"73 to za dużo\".</font>"
   ]
  },
  {
   "cell_type": "code",
   "execution_count": null,
   "metadata": {
    "collapsed": true
   },
   "outputs": [],
   "source": []
  },
  {
   "cell_type": "markdown",
   "metadata": {},
   "source": [
    "<br><br><br><br><br><br>\n",
    "<hr>"
   ]
  },
  {
   "cell_type": "markdown",
   "metadata": {},
   "source": [
    "### Typy złożone - list, tuple, set i dict"
   ]
  },
  {
   "cell_type": "markdown",
   "metadata": {},
   "source": [
    "#### list()"
   ]
  },
  {
   "cell_type": "code",
   "execution_count": null,
   "metadata": {
    "collapsed": true
   },
   "outputs": [],
   "source": [
    "a = [1, 2, 3, 4, 5, 6, 7, 8] # to jest lista"
   ]
  },
  {
   "cell_type": "code",
   "execution_count": null,
   "metadata": {},
   "outputs": [],
   "source": [
    "print(a[2:6]) # lista, podobnie, jak string jest indeksowana i uporządkowana"
   ]
  },
  {
   "cell_type": "code",
   "execution_count": null,
   "metadata": {},
   "outputs": [],
   "source": [
    "print(len(a)) # podaj długość listy"
   ]
  },
  {
   "cell_type": "code",
   "execution_count": null,
   "metadata": {},
   "outputs": [],
   "source": [
    "a.index(5) # na którym miejscu jest 5? - zwraca pierwsze wystąpienie"
   ]
  },
  {
   "cell_type": "code",
   "execution_count": null,
   "metadata": {},
   "outputs": [],
   "source": [
    "a[2] = 9 # lista jest modyfikowalna - wrtość jej elementów można zmieniać - lista jest mutable\n",
    "print(a)"
   ]
  },
  {
   "cell_type": "code",
   "execution_count": null,
   "metadata": {},
   "outputs": [],
   "source": [
    "del a[2] # lub nawet usuwać (np. funkcją del)\n",
    "print(a)"
   ]
  },
  {
   "cell_type": "code",
   "execution_count": null,
   "metadata": {},
   "outputs": [],
   "source": [
    "a[2] = 3\n",
    "print(a) # z tym, że teraz nie da się wrócić do stanu poprzedniego w ten sposób"
   ]
  },
  {
   "cell_type": "code",
   "execution_count": null,
   "metadata": {},
   "outputs": [],
   "source": [
    "a.insert(3, 4) # funkcja insert \"wsuwa\" nowy element pomiędzy istniejące\n",
    "print(a)"
   ]
  },
  {
   "cell_type": "markdown",
   "metadata": {},
   "source": [
    "Funkcje działające na listach z reguły nie zwracają wartości (zwracają wartość None). Zamiast tego, zmieniają listę, na której są wywoływane."
   ]
  },
  {
   "cell_type": "code",
   "execution_count": null,
   "metadata": {},
   "outputs": [],
   "source": [
    "a.reverse() # odwróć kolejność\n",
    "print(a)"
   ]
  },
  {
   "cell_type": "code",
   "execution_count": null,
   "metadata": {},
   "outputs": [],
   "source": [
    "a.append('ABC') # dopisz do listy - uwaga, lista może zawierać elementy różnych typów!\n",
    "print(a)"
   ]
  },
  {
   "cell_type": "code",
   "execution_count": null,
   "metadata": {},
   "outputs": [],
   "source": [
    "b = a.pop() # usuń ostatni element i zwróć go\n",
    "print(a, b, sep='\\n')"
   ]
  },
  {
   "cell_type": "code",
   "execution_count": null,
   "metadata": {},
   "outputs": [],
   "source": [
    "a.extend(b) # dołącza listę b do a, zmieniając a\n",
    "print(a)"
   ]
  },
  {
   "cell_type": "code",
   "execution_count": null,
   "metadata": {},
   "outputs": [],
   "source": [
    "a.clear() # czyści wszystkie elementy - od tej pory lista jest pusta\n",
    "print(a)"
   ]
  },
  {
   "cell_type": "code",
   "execution_count": null,
   "metadata": {},
   "outputs": [],
   "source": [
    "a = [1, 2, 3, 4, 5, 6, 7, 8]\n",
    "b = a # uwaga na specyfikę list - takie przypisanie powoduje, że a i b są w istocie tą samą zmienną\n",
    "print(a, b)"
   ]
  },
  {
   "cell_type": "code",
   "execution_count": null,
   "metadata": {},
   "outputs": [],
   "source": [
    "del a[2] # usunięcie elementu listy a spowodowało usunięcie wartości w tym samym miejscu pamięci, do którego wskazuje b\n",
    "print(b)"
   ]
  },
  {
   "cell_type": "code",
   "execution_count": null,
   "metadata": {},
   "outputs": [],
   "source": [
    "b = a[:] # taka komenda kopiuje elementy listy a do b - tworzy więc nowe miejsce w pamięci\n",
    "print(b)"
   ]
  },
  {
   "cell_type": "code",
   "execution_count": null,
   "metadata": {},
   "outputs": [],
   "source": [
    "del a[2]\n",
    "print(a, b) # tym razem tylko element listy a został usunięty, bez wpływu na listę b"
   ]
  },
  {
   "cell_type": "code",
   "execution_count": null,
   "metadata": {},
   "outputs": [],
   "source": [
    "c = [[1, 2], [3, 4], [5, 6]] # lista dwuwymiarowa\n",
    "print(c[2][1]) # zwróć element 1 elementu 2"
   ]
  },
  {
   "cell_type": "markdown",
   "metadata": {},
   "source": [
    "<br>\n",
    "<hr>\n",
    "#### tuple() - krotki"
   ]
  },
  {
   "cell_type": "code",
   "execution_count": null,
   "metadata": {},
   "outputs": [],
   "source": [
    "t = (1, 2, 3, 4, 5, 6, 7, 7) # to jest tuple, albo \"krotka\"\n",
    "print(t)"
   ]
  },
  {
   "cell_type": "code",
   "execution_count": null,
   "metadata": {},
   "outputs": [],
   "source": [
    "print(t[2:6]) # podobnie, jak lista, tuple jest indeksowalny i uporządkowany"
   ]
  },
  {
   "cell_type": "code",
   "execution_count": null,
   "metadata": {},
   "outputs": [],
   "source": [
    "print(len(t))"
   ]
  },
  {
   "cell_type": "code",
   "execution_count": null,
   "metadata": {},
   "outputs": [],
   "source": [
    "t[0] = 10 # odróżnieniu jednak od listy, tuple NIE JEST modyfikowalny (immutable)"
   ]
  },
  {
   "cell_type": "code",
   "execution_count": null,
   "metadata": {},
   "outputs": [],
   "source": [
    "del t[0] # jak niezmienny, to niezmienny"
   ]
  },
  {
   "cell_type": "code",
   "execution_count": null,
   "metadata": {},
   "outputs": [],
   "source": [
    "t.index(7) # na którym miejscu jest liczba 7"
   ]
  },
  {
   "cell_type": "code",
   "execution_count": null,
   "metadata": {},
   "outputs": [],
   "source": [
    "t.count(7) # a ile razy w ogóle występuje?"
   ]
  },
  {
   "cell_type": "code",
   "execution_count": null,
   "metadata": {},
   "outputs": [],
   "source": [
    "t += t * 2 # a dlaczego takie coś zadziała? tuple jest niezmienny, ale do zmiennej t możemy na nowo przypisać nową wartość\n",
    "print(t)"
   ]
  },
  {
   "cell_type": "code",
   "execution_count": null,
   "metadata": {},
   "outputs": [],
   "source": [
    "u = list(t) # możemy zmienić tuple na listę\n",
    "print(u)"
   ]
  },
  {
   "cell_type": "code",
   "execution_count": null,
   "metadata": {},
   "outputs": [],
   "source": [
    "u = tuple(u) # i odwrotnie\n",
    "print(u)"
   ]
  },
  {
   "cell_type": "code",
   "execution_count": null,
   "metadata": {},
   "outputs": [],
   "source": [
    "print(tuple(reversed(u))) # funkcja reversed, w odróżnieniu od metody list .reverse - jest w stanie odwrócić dowolny iterator"
   ]
  },
  {
   "cell_type": "code",
   "execution_count": null,
   "metadata": {},
   "outputs": [],
   "source": [
    "d = ([1, 2], 3, 4, [[5, 6], ('7', 8)]) # listy i tuple to bardz \"pojemne\" typy danych\n",
    "print(d)\n",
    "print(len(d))"
   ]
  },
  {
   "cell_type": "code",
   "execution_count": null,
   "metadata": {},
   "outputs": [],
   "source": [
    "print(*d) # tzw. unpacking - wypisuje elementy listy lub tupla iterując po kolei"
   ]
  },
  {
   "cell_type": "markdown",
   "metadata": {},
   "source": [
    "<br>\n",
    "<hr>\n",
    "#### set() - zbiory unikalnych elementów"
   ]
  },
  {
   "cell_type": "code",
   "execution_count": null,
   "metadata": {},
   "outputs": [],
   "source": [
    "k = {1, 2, 3, 4, 5, 6, 7, 8} # set jest zbiorem unikalnych elementów\n",
    "print(k)"
   ]
  },
  {
   "cell_type": "code",
   "execution_count": null,
   "metadata": {},
   "outputs": [],
   "source": [
    "k = set([1, 2, 3, 4, 5, 6, 7, 8]) # set można też utworzyć z listy, albo z tuple\n",
    "print(k)"
   ]
  },
  {
   "cell_type": "code",
   "execution_count": null,
   "metadata": {},
   "outputs": [],
   "source": [
    "k.add('9') # set jest mutowalny, można do niego dodawać lub odejmować nowe elementy\n",
    "print(k)"
   ]
  },
  {
   "cell_type": "code",
   "execution_count": null,
   "metadata": {},
   "outputs": [],
   "source": [
    "k.add('9') # ale może zawierać tylko elementy unikalne - próba dodania już istniejącego elementu\n",
    "print(k)"
   ]
  },
  {
   "cell_type": "code",
   "execution_count": null,
   "metadata": {},
   "outputs": [],
   "source": [
    "print(len(k)) # długość (wielkość) zbioru"
   ]
  },
  {
   "cell_type": "code",
   "execution_count": null,
   "metadata": {},
   "outputs": [],
   "source": [
    "print(k[2:5]) # set nie jest indeksowalny, nie jest uporządkowany"
   ]
  },
  {
   "cell_type": "code",
   "execution_count": null,
   "metadata": {},
   "outputs": [],
   "source": [
    "k.discard('9') # usuwa, jeśli istnieje dany element\n",
    "print(k)"
   ]
  },
  {
   "cell_type": "code",
   "execution_count": null,
   "metadata": {},
   "outputs": [],
   "source": [
    "k.remove('9') # próbuje usunąć podany element; jeśli nie ma - występuje błąd\n",
    "print(k)"
   ]
  },
  {
   "cell_type": "code",
   "execution_count": null,
   "metadata": {},
   "outputs": [],
   "source": [
    "l = {4, 5, 6, 9}\n",
    "print(k.difference(l)) # różnica dwóch zbiorów\n",
    "print(k - l) # to samo można osiągnąć operatorem na zbiorach"
   ]
  },
  {
   "cell_type": "code",
   "execution_count": null,
   "metadata": {},
   "outputs": [],
   "source": [
    "print(k.intersection(l)) # część wspólna zbiorów\n",
    "print(k & l)"
   ]
  },
  {
   "cell_type": "code",
   "execution_count": null,
   "metadata": {},
   "outputs": [],
   "source": [
    "print(k.symmetric_difference(l)) # różnica symetryczna\n",
    "print(k ^ l)"
   ]
  },
  {
   "cell_type": "code",
   "execution_count": null,
   "metadata": {},
   "outputs": [],
   "source": [
    "print(k.union(l)) # suma zbiorów\n",
    "print(k | l)"
   ]
  },
  {
   "cell_type": "code",
   "execution_count": null,
   "metadata": {},
   "outputs": [],
   "source": [
    "print(k.isdisjoint(l)) # czy są rozłączne?"
   ]
  },
  {
   "cell_type": "code",
   "execution_count": null,
   "metadata": {},
   "outputs": [],
   "source": [
    "print(k.issubset(l)) # czy k jest podzbiorem l\n",
    "print(k <= l)"
   ]
  },
  {
   "cell_type": "code",
   "execution_count": null,
   "metadata": {},
   "outputs": [],
   "source": [
    "print(k.issuperset(l)) # czy l jest podzbiorem k\n",
    "print(k >= l)"
   ]
  },
  {
   "cell_type": "markdown",
   "metadata": {},
   "source": [
    "<hr>\n",
    "### ZADANIE #7\n",
    "<font color=\"0088CC\">\n",
    "Napisz polecenie, które wypisze listę złożoną tylko z unikalnych elementów danej listy (czyli usunie powtórzenia elementów).</font>"
   ]
  },
  {
   "cell_type": "code",
   "execution_count": null,
   "metadata": {
    "collapsed": true
   },
   "outputs": [],
   "source": [
    "h = [4, 1, 2, 2, 7, 5, 2, 3, 7, 4, 4, 8, 9, 9, 3, 5]"
   ]
  },
  {
   "cell_type": "markdown",
   "metadata": {},
   "source": [
    "<br>\n",
    "<hr>\n",
    "#### dict() - słowniki"
   ]
  },
  {
   "cell_type": "markdown",
   "metadata": {},
   "source": [
    "Słownik to kolekcja par klucz: wartość. Jest to typ indeksowany, ale nieuporządkowany.<br>\n",
    "Kluczami mogą być tylko zmienne NIEMUTOWALNE - liczby, znaki oraz tuple.<br>\n",
    "Za to wartościami mogą być zmienne dowolnego typu - nawet duże obiekty."
   ]
  },
  {
   "cell_type": "code",
   "execution_count": null,
   "metadata": {},
   "outputs": [],
   "source": [
    "d = {1: 'A', 2: 'b', 'c': 3.0, (0, 0): [5, 5, 4]}\n",
    "print(d)"
   ]
  },
  {
   "cell_type": "code",
   "execution_count": null,
   "metadata": {},
   "outputs": [],
   "source": [
    "print(d['c']) # tak odwołujemy się do konkretnego elementu wg klucza"
   ]
  },
  {
   "cell_type": "code",
   "execution_count": null,
   "metadata": {},
   "outputs": [],
   "source": [
    "print(d[0,0]) # albo tak, jeśli jest nim tuple"
   ]
  },
  {
   "cell_type": "code",
   "execution_count": null,
   "metadata": {},
   "outputs": [],
   "source": [
    "e = dict.fromkeys(k, 'abc') # utwórz słownik z kluczy będących elementami listy (z domyślną wartością None lub zadaną)\n",
    "print(e)"
   ]
  },
  {
   "cell_type": "code",
   "execution_count": null,
   "metadata": {},
   "outputs": [],
   "source": [
    "print(d[0]) # nieprawidłowe odwołanie do elementu, którego nie ma w słowniku powoduje błąd"
   ]
  },
  {
   "cell_type": "code",
   "execution_count": null,
   "metadata": {},
   "outputs": [],
   "source": [
    "print(d.get(0), d.get(1)) # dlatego lepiej użyć get - zwraca wartość elementu lub None, jeśli brak"
   ]
  },
  {
   "cell_type": "code",
   "execution_count": null,
   "metadata": {},
   "outputs": [],
   "source": [
    "print(d.get(0, 'Nie ma')) # ewentualnie można wprowadzić drugi argument, który jest zwracany, jeśli nie ma klucza"
   ]
  },
  {
   "cell_type": "code",
   "execution_count": null,
   "metadata": {},
   "outputs": [],
   "source": [
    "d.setdefault(0, 'Nie ma') # setdefault mówi, co zwrócić, jeśli nastąpi do elementu, którego nie ma w słowniku"
   ]
  },
  {
   "cell_type": "code",
   "execution_count": null,
   "metadata": {},
   "outputs": [],
   "source": [
    "print(d.keys())   # zwraca wszystkie klucze słownika\n",
    "print(d.values()) # zwraca wszystkie wartości słownika\n",
    "print(d.items())  # zwraca pary klucz:wartość"
   ]
  },
  {
   "cell_type": "code",
   "execution_count": null,
   "metadata": {},
   "outputs": [],
   "source": [
    "d.update({17: 'xyz'}) # zaktualizuj słownik o nową wartość (lub nadpisz, jeśli dany klucz już był w słowniku)\n",
    "print(d)"
   ]
  },
  {
   "cell_type": "code",
   "execution_count": null,
   "metadata": {},
   "outputs": [],
   "source": [
    "e = dict(zip(a, b)) # zip skleja dwie listy do postaci, z której dict robi słownik\n",
    "print(e)            # kluczami tego słownika są wartości pierwszej listy, a wartościami elementy drugiej listy"
   ]
  },
  {
   "cell_type": "code",
   "execution_count": null,
   "metadata": {
    "collapsed": true
   },
   "outputs": [],
   "source": []
  },
  {
   "cell_type": "markdown",
   "metadata": {},
   "source": [
    "<hr>\n",
    "#### Funkcja range()"
   ]
  },
  {
   "cell_type": "code",
   "execution_count": null,
   "metadata": {},
   "outputs": [],
   "source": [
    "r = range(100) # zwraca ciąg liczb całkowitych <X, Y) - wraz z X, ale BEZ Y\n",
    "print(r)"
   ]
  },
  {
   "cell_type": "code",
   "execution_count": null,
   "metadata": {},
   "outputs": [],
   "source": [
    "r = range(24, 7, -2) # wynik przechowywany jest w \"leniwym\" typie range\n",
    "print(r)"
   ]
  },
  {
   "cell_type": "code",
   "execution_count": null,
   "metadata": {},
   "outputs": [],
   "source": [
    "print(20 in r) # wyrażenie jest ewaluowane na bieżąco\n",
    "print(r[4])  # range jest indeksowalny"
   ]
  },
  {
   "cell_type": "code",
   "execution_count": null,
   "metadata": {},
   "outputs": [],
   "source": [
    "r[4] = 12 # ale, podobnie jak tuple, nie można zmienić elementów range"
   ]
  },
  {
   "cell_type": "code",
   "execution_count": null,
   "metadata": {},
   "outputs": [],
   "source": [
    "print(tuple(r)) # range może być wykorzystywany do tworzenia tupli,\n",
    "print(list(r))  # list\n",
    "print(set(r))   # oraz zbiorów (ale zbiory nie zachowują kolejności)"
   ]
  },
  {
   "cell_type": "code",
   "execution_count": null,
   "metadata": {},
   "outputs": [],
   "source": [
    "print(dict(zip(r, r))) # range może być też wykorzystany do budowy słowników"
   ]
  },
  {
   "cell_type": "markdown",
   "metadata": {},
   "source": [
    "<br>\n",
    "<hr>\n",
    "### ZADANIE #8a\n",
    "<font color=\"0088CC\">\n",
    "Zapytaj użytkownika o liczbę początku przedziału, następnie o liczbę końca przedziału oraz o krok. Wypisz listę elementów przedziału w oparciu o kryteria użytkownika.</font>"
   ]
  },
  {
   "cell_type": "code",
   "execution_count": null,
   "metadata": {
    "collapsed": true
   },
   "outputs": [],
   "source": []
  },
  {
   "cell_type": "markdown",
   "metadata": {},
   "source": [
    "<br>\n",
    "<hr>\n",
    "### ZADANIE #8b\n",
    "<font color=\"0088CC\">\n",
    "Podobnie, jak w zadaniu powyżej zapytaj użytkownika o limity przedziału oraz o krok, a następnie o liczbę końca przedziału oraz o krok. Następnie w zależności od znaku kroku (+/-) weź pod uwagę odpowiednie z limitów tak, aby wypisać za każdym razem niepustą listę.</font>"
   ]
  },
  {
   "cell_type": "code",
   "execution_count": null,
   "metadata": {
    "collapsed": true
   },
   "outputs": [],
   "source": []
  },
  {
   "cell_type": "markdown",
   "metadata": {},
   "source": [
    "<hr>\n",
    "### Zmienne iterowalne i pętle"
   ]
  },
  {
   "cell_type": "markdown",
   "metadata": {},
   "source": [
    "<b>Iterowalnymi</b> (ang. iterable) nazywamy zmienne posiadające tę właściwość, że można przechodzić przez konkretne elementy ich kolekcji PO KOLEI. <b>Iteratorami</b> zaś są takie obiekty, które iterują, czyli zwracają konkretną wartość przy każdym odwołaniu i wspierają metodę <i>next()</i>. Mają one stan, czyli w danym momencie zwracają konkretną wartość, a po wyczerpaniu (ang. exhaust) przestają istnieć - odwołanie do nich powoduje błąd. Na razie nie będziemy się nimi zajmować.<br>\n",
    "<br>\n",
    "Przez elementy zmiennych iterowalnych przechodzimy za pomocą <b>pętli</b>. W Pythonie zaimplementowane są dwa typy pętli: for i while."
   ]
  },
  {
   "cell_type": "markdown",
   "metadata": {},
   "source": [
    "#### Pętla for ... in ... - wykonuj określoną liczbę razy"
   ]
  },
  {
   "cell_type": "code",
   "execution_count": null,
   "metadata": {},
   "outputs": [],
   "source": [
    "for i in [0, 1, 2, 3]: # \"dla każdego i będącego elementem zmiennej iterowalnej wykonaj podblok\"\n",
    "    print(i ** i)"
   ]
  },
  {
   "cell_type": "code",
   "execution_count": null,
   "metadata": {},
   "outputs": [],
   "source": [
    "print(r) # możemy również iterować po zmiennych \"leniwych\", np. range\n",
    "for i in r:\n",
    "    if i % 2 == 0:\n",
    "        print(i)"
   ]
  },
  {
   "cell_type": "code",
   "execution_count": null,
   "metadata": {},
   "outputs": [],
   "source": [
    "for i in 'BGZ BNP PARBIAS'[::4]: # string, a nawet jego dynamicznie zrobiony slice, też jest iterowalny\n",
    "    print(i)"
   ]
  },
  {
   "cell_type": "code",
   "execution_count": null,
   "metadata": {},
   "outputs": [],
   "source": [
    "b = 'BGZ BNP PARIBAS'\n",
    "for i in range(len(b)): # taki sposób iteracji powoduje, że i przyjmuje wartości indeksów kolejnych elementów b\n",
    "    print(str(i).zfill(3), b[i])"
   ]
  },
  {
   "cell_type": "code",
   "execution_count": null,
   "metadata": {},
   "outputs": [],
   "source": [
    "# pętle mogą też być zagnieżdżone\n",
    "for i in range(1, 11):\n",
    "    for j in range(1, 11):\n",
    "        print('{0:3d}'.format(i*j), end=' ')\n",
    "    print()"
   ]
  },
  {
   "cell_type": "code",
   "execution_count": null,
   "metadata": {},
   "outputs": [],
   "source": [
    "# a to już całkiem przypomina kawałek prawdziwego kodu\n",
    "for i in range(16):\n",
    "    for j in range(16):\n",
    "        if (i * j) % 3 == 0:\n",
    "            print(chr(128013), end='')\n",
    "        else:\n",
    "            print(chr(128100+i*j), end='')\n",
    "    print()"
   ]
  },
  {
   "cell_type": "markdown",
   "metadata": {},
   "source": [
    "<hr>\n",
    "#### Ręczne sterowanie pętlą - break, continue, pass"
   ]
  },
  {
   "cell_type": "code",
   "execution_count": null,
   "metadata": {},
   "outputs": [],
   "source": [
    "for i in range(20):\n",
    "    if i == 14:\n",
    "        break      # kończy blok pętli i wychodzi z niej natychmiast\n",
    "    if i % 2 == 0:\n",
    "        print(i)\n",
    "print('Koniec')"
   ]
  },
  {
   "cell_type": "code",
   "execution_count": null,
   "metadata": {},
   "outputs": [],
   "source": [
    "for i in range(20):\n",
    "    if i == 14:\n",
    "        continue      # kończy wykonywanie danego cyklu pętli i rozpoczyna kolejny\n",
    "    if i % 2 == 0:\n",
    "        print(i)\n",
    "print('Koniec')"
   ]
  },
  {
   "cell_type": "code",
   "execution_count": null,
   "metadata": {},
   "outputs": [],
   "source": [
    "for i in range(20):\n",
    "    if i == 14:\n",
    "        pass      # nie robi nic - zwykle używamy jako placeholder lub dla zwiększenia czytelności kodu\n",
    "    if i % 2 == 0:\n",
    "        print(i)\n",
    "print('Koniec')"
   ]
  },
  {
   "cell_type": "markdown",
   "metadata": {},
   "source": [
    "<hr>\n",
    "### ZADANIE #9\n",
    "<font color=\"0088CC\">\n",
    "Napisz kod, który pyta użytkownika o liczbę naturalną, a następnie sprawdza, czy ta liczba jest liczbą pierwszą (podzielną tylko przez siebie samą oraz 1). Podpowiedź: jeśli jest jakiś (inny niż 1 i dzielna) dzielnik całkowity tej liczby - chociaż jeden - dalsze sprawdzanie nie ma sensu - liczba nie jest liczbą pierwszą.\n",
    "</font>"
   ]
  },
  {
   "cell_type": "code",
   "execution_count": null,
   "metadata": {
    "collapsed": true
   },
   "outputs": [],
   "source": []
  },
  {
   "cell_type": "markdown",
   "metadata": {},
   "source": [
    "<hr>\n",
    "### ZADANIE #10\n",
    "<font color=\"0088CC\">\n",
    "Napisz kod, który będzie BANKOMATEM wypłacającym kwotę największymi dostępnymi nominałami z puli: 200, 100, 50, 20, i 10. Kod powinien zapytać użytkownika o liczbę naturalną podzielną przez 10, reprezentującą sumę pieniędzy do wydania. Następnie powinien \"wydać\" tę kwotę za pomocą jak najmniejszej liczby \"banknotów\", czyli za każdym razem maksymalnym dostępnym nominałem.<br>\n",
    "Przykład:<br>\n",
    "Dla kwoty 520 zł bankomat powinien wydać: 2 \\* 200 zł, 1 \\* 100 zł i 1 \\* 20 zł\n",
    "</font>"
   ]
  },
  {
   "cell_type": "code",
   "execution_count": null,
   "metadata": {
    "collapsed": true
   },
   "outputs": [],
   "source": []
  },
  {
   "cell_type": "code",
   "execution_count": null,
   "metadata": {
    "collapsed": true
   },
   "outputs": [],
   "source": []
  },
  {
   "cell_type": "markdown",
   "metadata": {},
   "source": [
    "<br>\n",
    "<hr>\n",
    "#### List expressions - wyrażenia listotwórcze"
   ]
  },
  {
   "cell_type": "code",
   "execution_count": null,
   "metadata": {},
   "outputs": [],
   "source": [
    "l1 = [i for i in range(20)] # list expressions pozwalają na szybkie tworzenie list z iterowalnych zmiennych\n",
    "print(l1)"
   ]
  },
  {
   "cell_type": "code",
   "execution_count": null,
   "metadata": {},
   "outputs": [],
   "source": [
    "l2 = [i for i in range(20) if not i % 3] # list expressions wspierają taką składnię\n",
    "print(l2)"
   ]
  },
  {
   "cell_type": "code",
   "execution_count": null,
   "metadata": {},
   "outputs": [],
   "source": [
    "# oczywiście, można ich używać do tworzenia innych zmiennych\n",
    "e1 = dict(zip([i for i in range(20)], [i*2 for i in range(20)]))\n",
    "print(e1)"
   ]
  },
  {
   "cell_type": "code",
   "execution_count": null,
   "metadata": {},
   "outputs": [],
   "source": [
    "# albo tak:\n",
    "e2 = dict(enumerate([i*2 for i in range(20) if i % 3 == 1]))\n",
    "print(e2)"
   ]
  },
  {
   "cell_type": "code",
   "execution_count": null,
   "metadata": {
    "collapsed": true
   },
   "outputs": [],
   "source": []
  },
  {
   "cell_type": "markdown",
   "metadata": {},
   "source": [
    "<hr>\n",
    "### Pętla while - wykonuj, dopóki..."
   ]
  },
  {
   "cell_type": "markdown",
   "metadata": {},
   "source": [
    "Pętla <b>while</b> wykonuje kod wewnątrz niej dotąd, dopóki warunek określony na wstępie ma wartość True."
   ]
  },
  {
   "cell_type": "code",
   "execution_count": null,
   "metadata": {},
   "outputs": [],
   "source": [
    "x = 10\n",
    "while x > 0: # wykonuj dopóki x > 0\n",
    "    print(x)\n",
    "    x -= 1"
   ]
  },
  {
   "cell_type": "markdown",
   "metadata": {},
   "source": [
    "Oczywiście, nią również można sterować ręcznie za pomocą <b>continue</b> i <b>break</b>."
   ]
  },
  {
   "cell_type": "code",
   "execution_count": null,
   "metadata": {},
   "outputs": [],
   "source": [
    "x = 10\n",
    "while x > 0: # wykonuj dopóki x > 0\n",
    "    print(x)\n",
    "    x -= 1\n",
    "    if x == 6:\n",
    "        break"
   ]
  },
  {
   "cell_type": "markdown",
   "metadata": {},
   "source": [
    "Uwaga przy definicji - ustawienie warunku, który ZAWSZE jest prawdziwy, bez ręcznego \"wyjścia\" spowoduje pętlę nieskończoną (do wyczerpania pamięci)."
   ]
  },
  {
   "cell_type": "code",
   "execution_count": null,
   "metadata": {},
   "outputs": [],
   "source": [
    "while 1:\n",
    "    pass"
   ]
  },
  {
   "cell_type": "markdown",
   "metadata": {},
   "source": [
    "<hr>\n",
    "### ZADANIE #11\n",
    "<font color=\"0088CC\">\n",
    "Napisz kod, który pyta użytkownika o liczbę naturalną, a następnie sprawdza, czy ta liczba jest liczbą pierwszą (podzielną tylko przez siebie samą oraz 1). Tym razem użyj pętli 'while' do tej procedury.\n",
    "</font>"
   ]
  },
  {
   "cell_type": "code",
   "execution_count": null,
   "metadata": {
    "collapsed": true
   },
   "outputs": [],
   "source": []
  },
  {
   "cell_type": "markdown",
   "metadata": {},
   "source": [
    "<br><br><br><br><br><br><br>\n",
    "<hr>\n",
    "### Funkcje - definicje i działanie"
   ]
  },
  {
   "cell_type": "markdown",
   "metadata": {},
   "source": [
    "Funkcje w Pythonie mają bardzo szerokie i wszechstronne zastosowanie. Ponieważ wszystko jest obiektem, każda klasa obiektów (\"typ danych\") może mieć swój zestaw funkcji. Niekiedy funkcje obiektów różnych typów mają te same nazwy - mamy wtedy do czynienia ze zjawiskiem przeładowania - ang. <b>overloading</b> funkcji.<br>\n",
    "Przykładem jest funkcja odpowiadająca za działanie dodawania, wywoływana w Pythonie przez operator \"+\"."
   ]
  },
  {
   "cell_type": "code",
   "execution_count": null,
   "metadata": {},
   "outputs": [],
   "source": [
    "print(2 + 2)        # użycie operatora + powoduje wywołanie funkcji __add__()\n",
    "print(\"2\" + '2')    # dla int ma zupełnie inną implementację, niż dla str"
   ]
  },
  {
   "cell_type": "code",
   "execution_count": null,
   "metadata": {},
   "outputs": [],
   "source": [
    "print(3 * 3)        # innym przykładem jest funkcja __mult__ wywoływana operatorem *\n",
    "print(3 * '3')"
   ]
  },
  {
   "cell_type": "markdown",
   "metadata": {},
   "source": [
    "Nic nie stoi na przeszkodzie, żeby definiować własne funkcje. Służy do tego instrukcja <b>def</b>:"
   ]
  },
  {
   "cell_type": "code",
   "execution_count": null,
   "metadata": {
    "collapsed": true
   },
   "outputs": [],
   "source": [
    "def funkcja():\n",
    "    print('Ale super szkolenie!')"
   ]
  },
  {
   "cell_type": "code",
   "execution_count": null,
   "metadata": {},
   "outputs": [],
   "source": [
    "funkcja()"
   ]
  },
  {
   "cell_type": "code",
   "execution_count": null,
   "metadata": {
    "collapsed": true
   },
   "outputs": [],
   "source": []
  },
  {
   "cell_type": "markdown",
   "metadata": {},
   "source": [
    "#### Definicja funkcji z (obowiązkowym) parametrem"
   ]
  },
  {
   "cell_type": "code",
   "execution_count": null,
   "metadata": {},
   "outputs": [],
   "source": [
    "def funkcja(x):                  # x jest parametrem funkcji - nazwa może być oczywiście dowolna\n",
    "    if x == 1:\n",
    "        print('Raz')\n",
    "    elif x == 2:\n",
    "        print('Dwa')\n",
    "    elif x == 3:\n",
    "        print('Trzy')\n",
    "    else:\n",
    "        print('Początek gry')\n",
    "\n",
    "funkcja(1)"
   ]
  },
  {
   "cell_type": "code",
   "execution_count": null,
   "metadata": {},
   "outputs": [],
   "source": [
    "funkcja()  # wywoła błąd - funkcja spodziewa się argumentu"
   ]
  },
  {
   "cell_type": "markdown",
   "metadata": {},
   "source": [
    "### ZADANIE #12\n",
    "<font color=\"0088CC\">\n",
    "Napisz funkcję, która jako argument bierze string i sprawdza, czy podany łańcuch znaków jest palindromem. Wynik jest sprawdzany tylko dla stringów o długości 3 lub większej, przy czym zarówno parzystej, jak i nieparzystej. Dla pozostałych funkcja powinna wypisać komunikat, że słowo jest za krótkie.\n",
    "</font>"
   ]
  },
  {
   "cell_type": "code",
   "execution_count": null,
   "metadata": {
    "collapsed": true
   },
   "outputs": [],
   "source": []
  },
  {
   "cell_type": "code",
   "execution_count": null,
   "metadata": {
    "collapsed": true
   },
   "outputs": [],
   "source": []
  },
  {
   "cell_type": "markdown",
   "metadata": {},
   "source": [
    "#### Definicja funkcji z parametrem o wartości domyślnej"
   ]
  },
  {
   "cell_type": "code",
   "execution_count": null,
   "metadata": {},
   "outputs": [],
   "source": [
    "def funkcja(x=3):                  # jeśli nie określimy wartości przyw wywołaniu funkcji, domyślnie przyjmie wartość 3\n",
    "    if x == 1:\n",
    "        print('Raz')\n",
    "    elif x == 2:\n",
    "        print('Dwa')\n",
    "    elif x == 3:\n",
    "        print('Trzy')\n",
    "    else:\n",
    "        print('Początek gry')\n",
    "\n",
    "funkcja()"
   ]
  },
  {
   "cell_type": "markdown",
   "metadata": {},
   "source": [
    "#### Definicja funkcji z dwoma argumentami"
   ]
  },
  {
   "cell_type": "code",
   "execution_count": null,
   "metadata": {},
   "outputs": [],
   "source": [
    "def funkcja(x, y):                  # kolejne argumenty po przecinkach\n",
    "    if x == 1:\n",
    "        print('Raz')\n",
    "    elif x == 2:\n",
    "        print('Dwa')\n",
    "    elif x == 3:\n",
    "        print('Trzy')\n",
    "    else:\n",
    "        print(x*y)\n",
    "\n",
    "funkcja(x=4, y=['Igrek'])"
   ]
  },
  {
   "cell_type": "markdown",
   "metadata": {},
   "source": [
    "#### Definicja funkcji z nieokreśloną liczbą argumentów"
   ]
  },
  {
   "cell_type": "code",
   "execution_count": null,
   "metadata": {},
   "outputs": [],
   "source": [
    "def funkcja(*args):                 # * poprzedza zbiorczą nazwę argumentów (dowolna nazwa, zwyczajowo args)\n",
    "    print(args)\n",
    "    if 1 in args:\n",
    "        print('Jest jedynka!')\n",
    "\n",
    "funkcja('44', 34, 'fdsv', [542, (552, {3: 4})])"
   ]
  },
  {
   "cell_type": "code",
   "execution_count": null,
   "metadata": {},
   "outputs": [],
   "source": [
    "funkcja('4235', {1, 2, 3}, ['o', {1: 'ara'}], 1)"
   ]
  },
  {
   "cell_type": "markdown",
   "metadata": {},
   "source": [
    "#### Definicja funkcji z parametrami określonymi i nieokreślonymi naraz"
   ]
  },
  {
   "cell_type": "code",
   "execution_count": null,
   "metadata": {},
   "outputs": [],
   "source": [
    "def funkcja(x, verbose=False, *args):\n",
    "    print(x * 10)\n",
    "    if verbose:\n",
    "        print(*args) # wypisuje odpakowane elementy tuple'a z argumentami funkcji\n",
    "\n",
    "funkcja('44', True, 'fdsv', [542, (552, {3: 4})]) # x='44', y=True, a reszta to args"
   ]
  },
  {
   "cell_type": "markdown",
   "metadata": {},
   "source": [
    "<hr>\n",
    "### ZADANIE #13a\n",
    "<font color=\"0088CC\">\n",
    "Zdefiniuj funkcję <b>avg()</b>, która przyjmuje nieokreśloną liczbę argumentów liczbowych, a także nazwany parametr 'type' - domyślnie ustawiony na 'arithmetic'. Zadaniem funkcji jest policzenie i wypisanie średniej wszystkich argumentów liczbowych. W zależności od wartości argumentu 'type' funkcja powinna policzyć średnią: 'a' - arytmetyczną, 'g' - geometryczną, 'h' - harmoniczną. Jeśli parametr przyjmie inną wartość, funkcja powinna wypisać błąd. Funkcja powinna też zakomunikować jaką średnią policzono.</font>"
   ]
  },
  {
   "cell_type": "code",
   "execution_count": null,
   "metadata": {
    "collapsed": true
   },
   "outputs": [],
   "source": [
    "# nums = (2, 2, 5, 7)\n",
    "# print(avg(nums)) # 4.0\n",
    "# print(avg(nums, type='a')) # 4.0\n",
    "# print(avg(nums, type='g')) # 3.44\n",
    "# print(avg(nums, type='h')) # 2.98\n"
   ]
  },
  {
   "cell_type": "markdown",
   "metadata": {},
   "source": [
    "<br><br>\n",
    "### Funkcje zwracające wartość - instrukcja return"
   ]
  },
  {
   "cell_type": "markdown",
   "metadata": {},
   "source": [
    "Poza tym, że funkcje mogą wykonywać instrukcje, ich bardzo ważną... funkcją jest zwracanie wartości (return). Oznacza to, że funkcja przybiera jakąś wartość, którą można \"przenieść\" do głównego kodu i np. przypisać zmiennej."
   ]
  },
  {
   "cell_type": "code",
   "execution_count": null,
   "metadata": {
    "collapsed": true
   },
   "outputs": [],
   "source": [
    "def min_max_diff(*args):\n",
    "    return max(*args) - min(*args) # zwróć wartość różnicy między maksymalnym i minimalnym"
   ]
  },
  {
   "cell_type": "code",
   "execution_count": null,
   "metadata": {
    "scrolled": true
   },
   "outputs": [],
   "source": [
    "numbers = 12,14,17,19,14,23,26,92,11,47,28,33,46,47,64,82,92,47,9,20,30,6,41,34,21,23,53,63,53,23,24,69,53,52,8,87\n",
    "min_max = min_max_diff(numbers)\n",
    "print(min_max)"
   ]
  },
  {
   "cell_type": "code",
   "execution_count": null,
   "metadata": {
    "collapsed": true
   },
   "outputs": [],
   "source": [
    "def isPrime(x):\n",
    "    for i in range(2, int(x**.5 + 1)):\n",
    "        if x % i == 0:\n",
    "            return False\n",
    "    return True"
   ]
  },
  {
   "cell_type": "code",
   "execution_count": null,
   "metadata": {
    "scrolled": true
   },
   "outputs": [],
   "source": [
    "num = int(input('Podaj liczbę do sprawdzenia: '))\n",
    "print('{}{} jest liczbą pierwszą'.format(num, (not isPrime(num))*' nie'))"
   ]
  },
  {
   "cell_type": "markdown",
   "metadata": {},
   "source": [
    "<hr>\n",
    "### ZADANIE #13b\n",
    "<font color=\"0088CC\">\n",
    "Poprzednie zadanie przepisz na funkcję zwracającą wartość. Dla danego zestawu liczb oblicz wszystkie średnie i przyporządkuj je do zmiennych avg_a, avg_g i avg_h. Następnie wypisz te zmienne.</font>"
   ]
  },
  {
   "cell_type": "code",
   "execution_count": null,
   "metadata": {
    "collapsed": true
   },
   "outputs": [],
   "source": []
  },
  {
   "cell_type": "markdown",
   "metadata": {},
   "source": [
    "<br><br><br><br><br><br>\n",
    "<hr>\n",
    "### Obsługa błędów - try/except/finally"
   ]
  },
  {
   "cell_type": "markdown",
   "metadata": {},
   "source": [
    "Błąd może pojawić się w Pythonie przy każdej okazji - jest to o tyle uciążliwe, że wystąpienie dowolnego błędu, nawet najmniejszego, kończy działanie programu. Chyba, że problematyczny fragment kodu zostanie opatrzony klazulą <b>try/except</b>:"
   ]
  },
  {
   "cell_type": "code",
   "execution_count": null,
   "metadata": {},
   "outputs": [],
   "source": [
    "while True:\n",
    "    try: # spróbuj wykonać ten kod w środku\n",
    "        n = input('Podaj swój wiek: ')\n",
    "        n = int(n)\n",
    "        break\n",
    "    except ValueError: # a gdyby MIAŁBY pojawić się błąd, wypisz ostrzeżenie\n",
    "        print('Niewłaściwa liczba:', n)\n",
    "print('Bardzo dobrze!')"
   ]
  },
  {
   "cell_type": "markdown",
   "metadata": {},
   "source": [
    "Opcjonalnie możemy też dodać instrukcję <b>finally</b>. Kod w niej zawarty zostanie wykonany niezależnie od tego, czy wystąpił błąd czy nie."
   ]
  },
  {
   "cell_type": "code",
   "execution_count": null,
   "metadata": {},
   "outputs": [],
   "source": [
    "while True:\n",
    "    try: # spróbuj wykonać ten kod w środku\n",
    "        n = input('Podaj swój wiek: ')\n",
    "        n = int(n)\n",
    "        break\n",
    "    except ValueError: # a gdyby MIAŁBY pojawić się błąd, wypisz ostrzeżenie\n",
    "        print('Niewłaściwa liczba:', n)\n",
    "        print('Spróbuj jeszcze raz')\n",
    "    finally:\n",
    "        print('<to się wytnie>')\n",
    "print('Bardzo dobrze!')"
   ]
  },
  {
   "cell_type": "markdown",
   "metadata": {},
   "source": [
    "<br>\n",
    "### Obsługa błędów - raise/assert"
   ]
  },
  {
   "cell_type": "markdown",
   "metadata": {},
   "source": [
    "Chociaż trudno to zrozumieć, czasem wystąpienie błędu może być pożądane. Jeżeli np. kod jest wykonywany w warunkach opatrzenia całego bloku klauzulą try/except, a błąd wystąpi - zostanie zignorowany i kod \"pójdzie\" dalej. Nie wiadomo będzie jednak, gdzie ten błąd wystąpił, albo że w ogóle wystąpił. To z kolei może być potencjalnie niebezpieczne dla efektu końcowego - brak jakiejś danej lub zignorowanie np. złego wczytania danych i puszczenie procesu dalej może mieć opłakane skutki \"na produkcji\".<br>\n",
    "Żeby sztucznie wywołać błąd używana jest komenda <b>raise</b>"
   ]
  },
  {
   "cell_type": "code",
   "execution_count": null,
   "metadata": {},
   "outputs": [],
   "source": [
    "i = input('Podaj liczbę różną od zera:')\n",
    "if int(i) == 0:\n",
    "    raise ValueError('Miało nie być zera!')"
   ]
  },
  {
   "cell_type": "markdown",
   "metadata": {},
   "source": [
    "Z kolei polecenie <b>assert</b> oznacza \"upewnij się, że\""
   ]
  },
  {
   "cell_type": "code",
   "execution_count": null,
   "metadata": {},
   "outputs": [],
   "source": [
    "i = input('Podaj liczbę różną od zera: ')\n",
    "assert int(i) != 0"
   ]
  },
  {
   "cell_type": "markdown",
   "metadata": {},
   "source": [
    "<br><br><br><br><br><br>\n",
    "<hr>\n",
    "### ZADANIE #14\n",
    "<font color=\"0088CC\">\n",
    "Dany jest algorytm opisany w taki sposób:\n",
    "<ol>\n",
    "    <li>Bierzemy dowolną liczbę naturalną. Jeżeli jest:\n",
    "        <ul>\n",
    "            <li>parzysta - dzielimy przez 2</li>\n",
    "            <li>nieparzysta - mnożymy przez 3 i dodajemy 1</li>\n",
    "        </ul></li>\n",
    "    <li>Wynik przenosimy do punktu 1</li>\n",
    "    <li>Algorytm powtarzamy, aż do osiągnięcia wyniku: 1</li>\n",
    "</ol>\n",
    "Napisz kod, który pyta użytkownika o liczbę naturalną, a następnie wykonuje powyższy algorytm wypisując po kolei wszystkie wyniki (w kolejnych liniach).\n",
    "</font>"
   ]
  },
  {
   "cell_type": "code",
   "execution_count": null,
   "metadata": {
    "collapsed": true
   },
   "outputs": [],
   "source": []
  },
  {
   "cell_type": "code",
   "execution_count": null,
   "metadata": {
    "collapsed": true
   },
   "outputs": [],
   "source": []
  },
  {
   "cell_type": "markdown",
   "metadata": {},
   "source": [
    "<br>\n",
    "<hr>\n",
    "### ZADANIE #15a\n",
    "<font color=\"0088CC\">\n",
    "Dany jest algorytm, który jest opisany w ten sposób:\n",
    "<ol>\n",
    "    <li>Dana jest czterocyfrowa liczba taka, że co najmniej jedna jej cyfra jest inna niż pozostałe (czyli nie 1111, 2222, 3333... 9999)</li>\n",
    "    <li>Porządkujemy jej cyfry w kolejności od największej do najmniejszej - tak powstaje liczba A</li>\n",
    "    <li>Następnie porządkujemy cyfry w kolejności od najmniejszej do największej - tak powstaje liczba B</li>\n",
    "    <li>Wykonujemy działanie A - B</li>\n",
    "    <li>Z wynikiem działania wracamy do punktu 1.</li>\n",
    "</ol>\n",
    "Napisz kod, który pyta użytkownika o taką liczbę, sprawdza, czy pasuje do algorytmu, a następnie wypisuje kolejne kroki algorytmu, np:<br>\n",
    "6237: 7632 - 2367 = 5265<br>\n",
    "5265: 6552 - 2556 = 3996<br>\n",
    "...<br>\n",
    "</font>"
   ]
  },
  {
   "cell_type": "code",
   "execution_count": null,
   "metadata": {
    "collapsed": true
   },
   "outputs": [],
   "source": []
  },
  {
   "cell_type": "markdown",
   "metadata": {},
   "source": [
    "### ZADANIE #15b\n",
    "<font color=\"0088CC\">\n",
    "Do poprzedniego zadania dodaj w pętli warunek jej przerwania po osiągnięciu punktu konwergencji.\n",
    "</font>"
   ]
  },
  {
   "cell_type": "code",
   "execution_count": null,
   "metadata": {
    "collapsed": true
   },
   "outputs": [],
   "source": []
  },
  {
   "cell_type": "markdown",
   "metadata": {},
   "source": [
    "### ZADANIE #15c\n",
    "<font color=\"0088CC\">\n",
    "Zmodyfikuj kod z powyższego zadania tak, aby akceptował również liczby trzycyfrowe.\n",
    "</font>"
   ]
  },
  {
   "cell_type": "code",
   "execution_count": null,
   "metadata": {
    "collapsed": true
   },
   "outputs": [],
   "source": []
  },
  {
   "cell_type": "markdown",
   "metadata": {},
   "source": [
    "### ZADANIE #15d*\n",
    "<font color=\"0088CC\">\n",
    "Zmodyfikuj kod tak, aby radził sobie z dowolnymi liczbami.\n",
    "</font>"
   ]
  },
  {
   "cell_type": "code",
   "execution_count": null,
   "metadata": {
    "collapsed": true
   },
   "outputs": [],
   "source": []
  },
  {
   "cell_type": "markdown",
   "metadata": {},
   "source": [
    "<br><br><br><br><br><br>\n",
    "<hr>\n",
    "### Klasy - definicja, zmienne, parametry i funkcje"
   ]
  },
  {
   "cell_type": "markdown",
   "metadata": {},
   "source": [
    "W Pythonie poza typami wbudowanymi, jak int czy str, istnieje możliwość definiowania własnych klas obiektów (typów danych) o określonych cechach - w zależności od potrzeb użytkownika."
   ]
  },
  {
   "cell_type": "code",
   "execution_count": null,
   "metadata": {
    "collapsed": true
   },
   "outputs": [],
   "source": [
    "class Client():\n",
    "    \n",
    "    def __init__(self, index, name, town, phone): # tzw. konstruktor klasy - zawiera informacje dot. budowy obiektów\n",
    "        self.index = index\n",
    "        self.name = name\n",
    "        self.town = town\n",
    "        self.phone = phone\n",
    "    \n",
    "    def __str__(self):\n",
    "        return 'Index: {0}, Client name: {1}, City: {2}, Phone number: {3}'.\\\n",
    "    format(self.index, self.name, self.town, self.phone)\n",
    "    \n",
    "    def where(self):\n",
    "        return self.name + ' lives in ' + self.town"
   ]
  },
  {
   "cell_type": "code",
   "execution_count": null,
   "metadata": {
    "collapsed": true
   },
   "outputs": [],
   "source": [
    "c = Client(1, 'Kuba', 'Warsaw', 123)"
   ]
  },
  {
   "cell_type": "code",
   "execution_count": null,
   "metadata": {},
   "outputs": [],
   "source": [
    "print(c)"
   ]
  },
  {
   "cell_type": "code",
   "execution_count": null,
   "metadata": {},
   "outputs": [],
   "source": [
    "print(c.where())"
   ]
  },
  {
   "cell_type": "code",
   "execution_count": null,
   "metadata": {
    "collapsed": true
   },
   "outputs": [],
   "source": []
  }
 ],
 "metadata": {
  "kernelspec": {
   "display_name": "Python 3",
   "language": "python",
   "name": "python3"
  },
  "language_info": {
   "codemirror_mode": {
    "name": "ipython",
    "version": 3
   },
   "file_extension": ".py",
   "mimetype": "text/x-python",
   "name": "python",
   "nbconvert_exporter": "python",
   "pygments_lexer": "ipython3",
   "version": "3.6.3"
  }
 },
 "nbformat": 4,
 "nbformat_minor": 2
}
