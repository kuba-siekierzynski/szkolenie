{
 "cells": [
  {
   "cell_type": "markdown",
   "metadata": {},
   "source": [
    "### Zadanie - walka klas"
   ]
  },
  {
   "cell_type": "markdown",
   "metadata": {},
   "source": [
    "Mamy dwie postaci: Elfa i Orka, o podanych parametrach.<br>\n",
    "Elf - Siła: 2, Wytrzymałość: 40, Zwinność: 80<br>\n",
    "Ork - Siła: 6, Wytrzymałość: 60, Zwinność: 40<br>\n",
    "<br>\n",
    "Dodatkowo, obie postaci posiadają broń, z której korzystają w ten sposób, że do Siły dodawany jest element losowy określony przez broń i to stanowi skumulowaną siłę ataku. Elf korzysta z miecza (2-4), a ork z maczugi (3-7).<br>\n",
    "Postaci atakują się naprzemiennie, w przypadku udanego ataku skumulowaną Siłę ataku odejmujemy od bieżącej Wytrzymałości. Atak jest udany, jeśli postaci nie uda się go uniknąć - każda z postaci ma na to szansę wyrażoną w Zwinności (w %). W przypadku spadku Wytrzymałości do zera, postać przegrywa.<br><br>\n",
    "Zaprogramuj symulację walki - ustal rozpoczynającego w sposób losowy. Wypisz każdy z kroków, np. Ork atakuje z Siłą 11... ale Elf unika ataku! Elf atakuje z Siłą 4... Ork traci 4 punkty Wytrzymałości.... [...] Ork wygrywa walkę!<br>\n",
    "<br>\n",
    "Przeprowadź wiele symulacji, np. 1000 (tym razem najlepiej zawinąć kod w pętlę, bez wypisywania każdego z kroków). Która postać częściej wygrywa?"
   ]
  },
  {
   "cell_type": "markdown",
   "metadata": {},
   "source": [
    "<hr>"
   ]
  },
  {
   "cell_type": "markdown",
   "metadata": {},
   "source": [
    "Postanowiłem napisać ten kod, żeby od razu pokazać, jak tworzymy klasy w Pythonie. Dla ciekawości - poniższy kod jest przykładem tzw. OOP - Object-Oriented Programming, czyli programowania obiektowego - jednego z paradygmatów programowania (dla odróżnienia od np. programowania funkcyjnego) w Pythonie. Co prawda, nie omawialiśmy tego na szkoleniu, ale mam nadzieję, że to będzie w miarę jasne.<br><br>\n",
    "Najważniejszy jest sposób definicji klas, który jest powtarzalny i stosunkowo prosty, choć sama składnia może z początku wyglądać... egzotycznie :)<br><br>\n",
    "Klasa to jest taki \"przepis\" na typ danych - podstawowe założenia, jakie powinien spełniać każdy nowy obiekt/zmienna takiego właśnie typu. Same zaś zmienne/obiekty nazywamy instancjami (lub po prostu obiektami) danej klasy. Np. wywołanie kodu: s = 'ABC' powoduje powstanie zmiennej, która jest obiektem klasy string (<class 'str'>).<br><br>\n",
    "Definicję klasy rozpoczynamy od <b>class Nazwa:</b>, gdzie Nazwa określa nazwę klasy. Klasy, czyli nowego, zazwyczaj złożonego typu danych, jaki chcemy stworzyć dla naszych potrzeb. W ramach tej definicji, po wcięciu, <b>ZAWSZE</b> musimy zdefiniować przynajmniej metodę \\_\\_**init**\\_\\_ danej klasy, która jest jej tzw. konstruktorem - czyli specjalną funkcją (tzw. magiczną, oznaczaną przez podwójny underscore z każdej strony) wywoływaną za każdym razem, gdy inicjujemy obiekt tej klasy. Określa ona, jakie atrybuty ma ten obiekt posiadać i co się ma zadziać w związku z powołaniem do życia nowego obiektu tej klasy.<br><br>\n",
    "W ramach definicji metody \\_\\_**init**\\_\\_ możemy określić parametry każdego obiektu, jednak zawsze pierwszy parametr (tak wynika ze składni) jest tzw. parametrem technicznym - zazwyczaj nazywamy go 'self' - który oznacza odniesienie do konkretnego obiektu tej klasy, a nie do klasy jako takiej. Czyli wszystkie parametry nowego obiektu - do których już po jego powołaniu będziemy się odnosić po kropce (nazwa_obiektu.nazwa_parametru) - inicjalizujemy w definicji \\_\\_**init**\\_\\_ poprzedzając je self. - właśnie w ten sposób to \"self\" oznacza konkretny obiekt.<br><br>\n",
    "Możemy w ten sposób definiować dowolne nowe metody tej klasy - co pokazuję później na przykładzie klasy Character. Na razie jednak skupmy się na prostszym przykładzie - klasie Weapon:"
   ]
  },
  {
   "cell_type": "code",
   "execution_count": 1,
   "metadata": {},
   "outputs": [],
   "source": [
    "import random"
   ]
  },
  {
   "cell_type": "code",
   "execution_count": 2,
   "metadata": {},
   "outputs": [],
   "source": [
    "# definicja klasy Weapon - tworzymy obiekty broni, które będą zawierały niezbędne parametry\n",
    "class Weapon:\n",
    "    \n",
    "    # __init__ jest tzw. konstruktorem klasy - mówi, co zrobić, kiedy powołamy do życia nowy obiekt danej klasy\n",
    "    # czyli kiedy zainicjujemy nową zmienną\n",
    "    \n",
    "    def __init__(self, name, hit_min, hit_max): # self jest odniesieniem do konkretnego obiektu danej klasy, reszta to parametry\n",
    "        self.name = name\n",
    "        self.hit_min = hit_min\n",
    "        self.hit_max = hit_max"
   ]
  },
  {
   "cell_type": "code",
   "execution_count": 3,
   "metadata": {},
   "outputs": [],
   "source": [
    "# po powyższej definicji można tworzyć obiekty broni, w ten sposób:\n",
    "grand_axe = Weapon('Grand Axe', 8, 16)\n",
    "\n",
    "# stworzyliśmy obiekt typu Weapon, którego parametry to: name='Grand Axe', hit_min=8 i hit_max=16\n",
    "# Uwaga: przy powoływaniu obiektu pierwszy parametr w definicji - zwyczajowo nazywany self - jest już pomijany\n",
    "# stanowi on jedynie wskazówkę dla definicji klasy, że chodzi o parametr danego obiektu, a nie parametr klasy"
   ]
  },
  {
   "cell_type": "markdown",
   "metadata": {},
   "source": [
    "Powyższy przykład pokazuje, w jaki sposób tworzyć definicję klasy i jak później powoływać obiekty danej klasy. Spróbujmy teraz zrobić print(grand_axe):"
   ]
  },
  {
   "cell_type": "code",
   "execution_count": 4,
   "metadata": {},
   "outputs": [
    {
     "name": "stdout",
     "output_type": "stream",
     "text": [
      "<__main__.Weapon object at 0x00000000059C49E8>\n"
     ]
    }
   ],
   "source": [
    "print(grand_axe)"
   ]
  },
  {
   "cell_type": "markdown",
   "metadata": {},
   "source": [
    "Słabo to wygląda, ale taka jest domyślna definicja nowopowołanej klasy. Można to zmienić, o czym za chwilę. Ale na przykład odwołanie się do konkretnego parametru zmiennej grand_axe da już lepszy, bardziej czytelny wynik:"
   ]
  },
  {
   "cell_type": "code",
   "execution_count": 5,
   "metadata": {},
   "outputs": [
    {
     "name": "stdout",
     "output_type": "stream",
     "text": [
      "Grand Axe 8 16\n"
     ]
    }
   ],
   "source": [
    "print(grand_axe.name, grand_axe.hit_min, grand_axe.hit_max)"
   ]
  },
  {
   "cell_type": "markdown",
   "metadata": {},
   "source": [
    "Żeby określić, co ma wyświetlać funkcja print, kiedy dostanie jako argument obiekt naszej klasy, należy w definicji klasy zdefiniować kolejną specjalną, magiczną funkcję: \\_\\_**str**\\_\\_. Zrobimy to na przykładzie klasy Character, z której będziemy powoływać obiekty-wojowników."
   ]
  },
  {
   "cell_type": "code",
   "execution_count": 6,
   "metadata": {},
   "outputs": [],
   "source": [
    "# definicja klasy Character - tworzymy obiekty postaci, z odpowiednimi parametrami oraz funkcją ataku\n",
    "class Character:\n",
    "    \n",
    "    # obiekty tej klasy będą zawierały imię, siłę, wytrzymałość i zręczność\n",
    "    def __init__(self, name, strength, stamina, dexterity):\n",
    "        self.name = name # analogicznie jak poprzednio: parametry obiektu przyjmują wartości określane przy jego powoływaniu\n",
    "        self.strength = strength\n",
    "        self.stamina = stamina\n",
    "        self.dexterity = dexterity\n",
    "\n",
    "    # definiujemy metodę __str__, żeby ładniej wyświetlał nam się każdy obiekt tej klasy\n",
    "    def __str__(self):\n",
    "        return f'{self.name}: Str: {self.strength} Sta: {self.stamina} Dex: {self.dexterity}'\n",
    "        \n",
    "        \n",
    "    # funkcja ataku będzie zawierała atakującego, atakowanego i broń oraz parametr verbose - czy wyświetlać przebieg walki\n",
    "    # self określa atakującego, other określa atakowanego - te zmienne mogą mieć każdą inną nazwę, te są zwyczajowe\n",
    "    \n",
    "    def attack(self, other, weapon, verbose=True): # verbose będzie nam określało, czy wyświetlać przebieg walki czy nie\n",
    "        if verbose:\n",
    "            print(self.name, 'attacks', other.name, 'with a', weapon.name, '...', end='')\n",
    "        \n",
    "        miss = random.random() * 100 # tu określamy losowo prezycję danego ataku - liczbę od 0 do 100\n",
    "        \n",
    "        if miss <= other.dexterity: # jeśli jest niższa lub równa Zwinności atakowanego, atak się nie powiedzie\n",
    "            if verbose:\n",
    "                print(' but misses!')\n",
    "        else: # w przeciwnym razie atak jest udany\n",
    "            hit = self.strength + random.randint(weapon.hit_min, weapon.hit_max) # określamy skumulowaną siłę ataku\n",
    "            other.stamina -= hit # i pomniejszamy o nią Wytrzymałość atakowanego\n",
    "            if verbose:\n",
    "                print(' and hits!', other.name, 'loses', hit, 'points.')"
   ]
  },
  {
   "cell_type": "markdown",
   "metadata": {},
   "source": [
    "W definicji klasy określającej wojownika zdefiniowaliśmy nie tylko jego parametry, ale też metodę - w tym przypadku attack, która \"coś robi\". Podobnie wygląda definicja każdej innej klasy, włącznie z tymi głęboko wbudowanymi w Pythona. Klasy typu int, float, str, list, set, tuple, dict i wszystkie inne, które omawialiśmy, są gdzieś głęboko w Pythonie zdefiniowane dokładnie w analogiczny sposób. Wraz ze wszystkimi swoimi parametrami, metodami, jakie możemy na nich (lub z ich udziałem) wykonać."
   ]
  },
  {
   "cell_type": "markdown",
   "metadata": {},
   "source": [
    "Pozostaje nam zdefiniować funkcję odpowiedzialną za walkę. Będzie ona przyjmować jako parametry obiekty klas, jakie sobie wcześniej zdefiniowaliśmy - odpowiednio wojowników i ich bronie - i na ich podstawie przeprowadzać potyczkę."
   ]
  },
  {
   "cell_type": "code",
   "execution_count": 7,
   "metadata": {},
   "outputs": [],
   "source": [
    "# parametrami będą wojownicy i ich bronie, a także parametr verbose, który ponownie będzie określał, czy wyświetlać przebieg\n",
    "\n",
    "def fight(character1, weapon1, character2, weapon2, verbose=True):\n",
    "    \n",
    "    turn = 0 # inicjalizujemy zmienną zawierającą numer tury\n",
    "    \n",
    "    i = random.random() # losujemy rozpoczynającego każdą turę - p. poniżej\n",
    "    \n",
    "    # poniższy zabieg pozwala na oszczędność kodu później - zasadniczą część walki piszemy wtedy raz, a nie dwa razy\n",
    "    if i < 0.5: # w 50% przypadków zamieniamy wojowników (i bronie) miejscami - żeby zaczynał losowy wojownik\n",
    "        character1, character2 = character2, character1\n",
    "        weapon1, weapon2 = weapon2, weapon1\n",
    "    \n",
    "    # jeśli verbose jest ustawione na True (domyślnie), wypisujemy każdy etap walki\n",
    "    if verbose:\n",
    "        print('Starting point:\\n', character1, ' | ', character2, sep='')\n",
    "        # ponieważ Character ma zdefiniowaną funkcję __str__, będzie się teraz ładnie wyświetlać\n",
    "    \n",
    "    while character1.stamina > 0 and character2.stamina > 0: # dopóki obaj żyją...\n",
    "        turn += 1 # ...rozpocznij kolejną turę\n",
    "        if verbose:\n",
    "            print('\\nTurn:', turn)\n",
    "        character1.attack(character2, weapon1, verbose=verbose) # pierwszy atakuje drugiego...\n",
    "        if character1.stamina > 0 and character2.stamina > 0: # ...i jeśli nadal obaj żyją...\n",
    "            character2.attack(character1, weapon2, verbose=verbose) # ...drugi atakuje pierwszego\n",
    "        if verbose:\n",
    "            print(character1, '|', character2) # wyświetl podsumowanie danej tury\n",
    "    \n",
    "    # powyższa pętla trwa dopóty, dopóki jeden z wojowników nie straci całej Wytrzymałości - mamy wtedy zwycięzcę\n",
    "    return (character1.name, turn) if character1.stamina > 0 else (character2.name, turn)\n",
    "    \n",
    "    # funkcja zwraca tuple, którego pierwszym elementem jest zwycięzca, a drugim liczba tur danej walki"
   ]
  },
  {
   "cell_type": "code",
   "execution_count": 8,
   "metadata": {},
   "outputs": [
    {
     "name": "stdout",
     "output_type": "stream",
     "text": [
      "Starting point:\n",
      "Orc: Str: 6 Sta: 60 Dex: 40 | Elf: Str: 2 Sta: 39 Dex: 80\n",
      "\n",
      "Turn: 1\n",
      "Orc attacks Elf with a mace ... but misses!\n",
      "Elf attacks Orc with a sword ... and hits! Orc loses 7 points.\n",
      "Orc: Str: 6 Sta: 53 Dex: 40 | Elf: Str: 2 Sta: 39 Dex: 80\n",
      "\n",
      "Turn: 2\n",
      "Orc attacks Elf with a mace ... but misses!\n",
      "Elf attacks Orc with a sword ... and hits! Orc loses 6 points.\n",
      "Orc: Str: 6 Sta: 47 Dex: 40 | Elf: Str: 2 Sta: 39 Dex: 80\n",
      "\n",
      "Turn: 3\n",
      "Orc attacks Elf with a mace ... but misses!\n",
      "Elf attacks Orc with a sword ... and hits! Orc loses 4 points.\n",
      "Orc: Str: 6 Sta: 43 Dex: 40 | Elf: Str: 2 Sta: 39 Dex: 80\n",
      "\n",
      "Turn: 4\n",
      "Orc attacks Elf with a mace ... and hits! Elf loses 11 points.\n",
      "Elf attacks Orc with a sword ... but misses!\n",
      "Orc: Str: 6 Sta: 43 Dex: 40 | Elf: Str: 2 Sta: 28 Dex: 80\n",
      "\n",
      "Turn: 5\n",
      "Orc attacks Elf with a mace ... but misses!\n",
      "Elf attacks Orc with a sword ... and hits! Orc loses 7 points.\n",
      "Orc: Str: 6 Sta: 36 Dex: 40 | Elf: Str: 2 Sta: 28 Dex: 80\n",
      "\n",
      "Turn: 6\n",
      "Orc attacks Elf with a mace ... but misses!\n",
      "Elf attacks Orc with a sword ... and hits! Orc loses 4 points.\n",
      "Orc: Str: 6 Sta: 32 Dex: 40 | Elf: Str: 2 Sta: 28 Dex: 80\n",
      "\n",
      "Turn: 7\n",
      "Orc attacks Elf with a mace ... but misses!\n",
      "Elf attacks Orc with a sword ... and hits! Orc loses 4 points.\n",
      "Orc: Str: 6 Sta: 28 Dex: 40 | Elf: Str: 2 Sta: 28 Dex: 80\n",
      "\n",
      "Turn: 8\n",
      "Orc attacks Elf with a mace ... but misses!\n",
      "Elf attacks Orc with a sword ... and hits! Orc loses 6 points.\n",
      "Orc: Str: 6 Sta: 22 Dex: 40 | Elf: Str: 2 Sta: 28 Dex: 80\n",
      "\n",
      "Turn: 9\n",
      "Orc attacks Elf with a mace ... but misses!\n",
      "Elf attacks Orc with a sword ... and hits! Orc loses 6 points.\n",
      "Orc: Str: 6 Sta: 16 Dex: 40 | Elf: Str: 2 Sta: 28 Dex: 80\n",
      "\n",
      "Turn: 10\n",
      "Orc attacks Elf with a mace ... but misses!\n",
      "Elf attacks Orc with a sword ... but misses!\n",
      "Orc: Str: 6 Sta: 16 Dex: 40 | Elf: Str: 2 Sta: 28 Dex: 80\n",
      "\n",
      "Turn: 11\n",
      "Orc attacks Elf with a mace ... but misses!\n",
      "Elf attacks Orc with a sword ... and hits! Orc loses 7 points.\n",
      "Orc: Str: 6 Sta: 9 Dex: 40 | Elf: Str: 2 Sta: 28 Dex: 80\n",
      "\n",
      "Turn: 12\n",
      "Orc attacks Elf with a mace ... but misses!\n",
      "Elf attacks Orc with a sword ... and hits! Orc loses 6 points.\n",
      "Orc: Str: 6 Sta: 3 Dex: 40 | Elf: Str: 2 Sta: 28 Dex: 80\n",
      "\n",
      "Turn: 13\n",
      "Orc attacks Elf with a mace ... but misses!\n",
      "Elf attacks Orc with a sword ... and hits! Orc loses 7 points.\n",
      "Orc: Str: 6 Sta: -4 Dex: 40 | Elf: Str: 2 Sta: 28 Dex: 80\n",
      "\n",
      " ## Elf wins the fight in 13 turns ##\n"
     ]
    }
   ],
   "source": [
    "# pojedyncza walka - z opisem\n",
    "orc = Character('Orc', 6, 60, 40)    # definicja obiektu orc, klasy Character\n",
    "elf = Character('Elf', 2, 39, 80)    # definicja obiektu elf, klasy Character\n",
    "sword = Weapon('sword', 2, 5)        # definicja obiektu sword, klasy Weapon\n",
    "mace = Weapon('mace', 3, 7)          # definicja obiektu mace, klasy Weapon\n",
    "walka = fight(orc, mace, elf, sword) # domyślnie verbose jest True, więc pomijamy w wywołaniu\n",
    "print(f'\\n ## {walka[0]} wins the fight in {walka[1]} turns ##')"
   ]
  },
  {
   "cell_type": "markdown",
   "metadata": {},
   "source": [
    "Powyższy przebieg walki został szczegółowo opisany krok po kroku, ponieważ nie ustawiliśmy parametru verbose - przyjął więc on domyślną wartość True, co zostało określone w definicji funkcji fight(). Na potrzeby przeprowadzania wielu symulacji to oczywiście nie ma większego sensu, wyłączymy więc tę funkcjonalność."
   ]
  },
  {
   "cell_type": "code",
   "execution_count": 9,
   "metadata": {},
   "outputs": [
    {
     "name": "stdout",
     "output_type": "stream",
     "text": [
      "100,000 fights evaluated.\n",
      "\n",
      "Wins performance:\n",
      "Elf: 50.08%\n",
      "Orc: 49.92%\n",
      "\n",
      "Turns on average\n",
      "Elf: 17.74\n",
      "Orc: 13.72\n"
     ]
    }
   ],
   "source": [
    "# a tu przeprowadzimy symulację, np. 100 000 walk i pozbieramy sobie różne ciekawe statystyki\n",
    "# po paru eksperymentach postanowiłem nieco zmienić parametry Elfa i jego miecza, za często wygrywał z Orkiem :)\n",
    "\n",
    "track = [] # w tej liście będziemy zbierać wyniki każdej z walk - zwycięzcę i liczbę tur\n",
    "sword = Weapon('sword', 2, 5) # lekko zmodyfikowany miecz, wzmocniony :)\n",
    "mace = Weapon('mace', 3, 7) # maczuga zostaje bez zmian\n",
    "\n",
    "num = 100000 # określa liczbę walk\n",
    "\n",
    "for i in range(num): # po każdej walce trzeba zainicjować (\"wskrzesić\" ;) obiekty orc i elf\n",
    "    orc = Character('Orc', 6, 60, 40) # Ork zostaje bez zmian\n",
    "    elf = Character('Elf', 2, 39, 80) # ale Elf ma o jeden mniejszą wytrzymałość, w stosunku do początkowych założeń\n",
    "    track.append(fight(orc, mace, elf, sword, verbose=False)) # dodajemy zwycięzcę do listy\n",
    "    \n",
    "# pod koniec zliczamy sobie statystyki - nasza lista track zawiera jako elementy tuple złożone z dwóch elementów, np.\n",
    "# [('Elf', 18), ('Elf', 19), ('Orc', 11), ('Elf', 16), ...]\n",
    "# zatem żeby zliczyć występowanie w niej każdego ze zwycięzców, musimy przeszukać tylko jej podzbiór (wycinek), czyli\n",
    "# tylko pierwsze elementy dwuelementowych tupli:\n",
    "\n",
    "elf_count = len([x[0] for x in track if x[0] == elf.name]) # uwzględnij pierwszy element tuple'a, jeśli jest on równy 'Elf'\n",
    "orc_count = len([x[0] for x in track if x[0] == orc.name]) # uwzględnij pierwszy element tuple'a, jeśli jest on równy 'Orc'\n",
    "\n",
    "# analogicznie przeszukujemy kolejny raz te dwuelementowe tuple-elementy listy track i wyliczamy sobie sumę liczb tur dla\n",
    "# każdego z wojowników, a następnie dzielimy przez wyżej wyliczoną liczbę zwycięstw każdego z nich\n",
    "elf_avg = sum(x[1] for x in track if x[0] == elf.name) / elf_count\n",
    "orc_avg = sum(x[1] for x in track if x[0] == orc.name) / orc_count\n",
    "\n",
    "print(f'{num:,d} fights evaluated.') # formatowanie dla lepszej czytelności\n",
    "print('\\nWins performance:')\n",
    "print(f'Elf: {elf_count / len(track):.2%}\\nOrc: {orc_count / len(track):.2%}') # w ilu % wygrał Elf, a w ilu Ork\n",
    "print('\\nTurns on average')\n",
    "print(f'Elf: {elf_avg:.2f}\\nOrc: {orc_avg:.2f}')"
   ]
  },
  {
   "cell_type": "markdown",
   "metadata": {},
   "source": [
    "<hr>\n",
    "Widzimy, że wojownicy z takimi parametrami i takimi dostępnymi broniami mają wyrównane szanse, choć Ork kończy sprawę średnio o cztery tury szybciej :)<br>\n",
    "Małe modyfikacje w stosunku do początkowych założeń musiały być zrobione dla wyrównania szans. Zachęcam Was jednak do rozegrania kilku symulacji ze zmienionymi parametrami, być może wprowadzenie nowego wojownika lub nowej broni z zupełnie innymi parametrami i wrzucenie ich do walki.<br><br>\n",
    "Jeśli Wam się spodoba, można kod rozwijać dalej, do czego zachęcam - np. klasie Character można zdefiniować jakąś kolejną metodę, powiedzmy heal(), która może zostać użyta (z jakimś prawdopodobieństwem) przez wojownika i na przykład częściowo leczy rany (ale dopiero po spadku poniżej jakiegoś poziomu), kosztem stałej utraty Zwinności. Albo np. spell() który może być użyty w walce zamiast ataku i np. na stałe (do końca danej walki) zmniejsza Siłę lub Zwinność przeciwnika.<br><br>\n",
    "Tego typu zabawa pomoże Wam na lepsze opanowanie języka jako takiego, wszystkich typów danych, metod i konstrukcji składniowych, jakie omawialiśmy - pętli, wyrażeń logicznych, a zwłaszcza programowania obiektowego - podstawowego paradygmatu programistycznego w Pythonie."
   ]
  },
  {
   "cell_type": "markdown",
   "metadata": {},
   "source": [
    "<b>Keep coding!</b>"
   ]
  }
 ],
 "metadata": {
  "kernelspec": {
   "display_name": "Python 3",
   "language": "python",
   "name": "python3"
  },
  "language_info": {
   "codemirror_mode": {
    "name": "ipython",
    "version": 3
   },
   "file_extension": ".py",
   "mimetype": "text/x-python",
   "name": "python",
   "nbconvert_exporter": "python",
   "pygments_lexer": "ipython3",
   "version": "3.6.8"
  }
 },
 "nbformat": 4,
 "nbformat_minor": 2
}
